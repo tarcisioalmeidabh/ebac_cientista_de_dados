{
 "cells": [
  {
   "cell_type": "markdown",
   "metadata": {},
   "source": [
    "# Tarefa II"
   ]
  },
  {
   "cell_type": "markdown",
   "metadata": {},
   "source": [
    "Ainda sobre a base da NFP vista na tarefa passada:\n",
    "\n",
    "|Campo|Descrição|\n",
    "|:-|:-|\n",
    "|CNPJ emit.| CNPJ do emitente da nota|\n",
    "|Emitente| Nome fantasia do emitente da nota|\n",
    "|No.| Número da nota fiscal|\n",
    "|Data Emissão| Data de emissão da nota fiscal|\n",
    "|Valor NF| Valor da nota fiscal|\n",
    "|Data Registro| Data de registro no sistema da NFP|\n",
    "|Créditos| Valor dos créditos (doação)|\n",
    "|Situação do Crédito| Se o crédito já foi pago, está sendo processado etc.|\n",
    "|Ano| Ano da emissão da nota|\n",
    "|Semestre| Semestre da emissão da nota|\n",
    "|Retorno| Valor do crédito dividido pelo valor da nota|\n",
    "|flag_credito| Indicadora se a nota possui crédito positivo|\n",
    "|categoria| Categorização da nota |\n",
    "\n",
    "**OBJETIVO:** Algumas notas não dão retorno, o que pode ocorrer por diversos motivos, um deles seria a ocorrência de produtos não incentivados como cigarros e bebidas alcólicas. O nosso objetivo é tentar prever que tipo de nota tem maior ou menor propensão a fornecer créditos.\n",
    "\n",
    "**Observação**: Esta é uma base real, havendo características de acordo. Pode haver uma variabilidade difícil de explicar, em parte por causa de uma freqüência de notas inconstante no tempo (por diversos motivos), em parte por haverem informações importantes, protegidas pela LGPD, não constantes na base, que pode interferir no crédito gerado, o que vai ocasionar uma variabilidade difícil de se explicar. *Welcome to the jungle*, A vida real é assim :)"
   ]
  },
  {
   "cell_type": "code",
   "execution_count": 26,
   "metadata": {},
   "outputs": [],
   "source": [
    "import pandas as pd\n",
    "import matplotlib.pyplot as plt\n",
    "import seaborn as sns\n",
    "import numpy as np"
   ]
  },
  {
   "cell_type": "code",
   "execution_count": 27,
   "metadata": {},
   "outputs": [
    {
     "data": {
      "text/html": [
       "<div>\n",
       "<style scoped>\n",
       "    .dataframe tbody tr th:only-of-type {\n",
       "        vertical-align: middle;\n",
       "    }\n",
       "\n",
       "    .dataframe tbody tr th {\n",
       "        vertical-align: top;\n",
       "    }\n",
       "\n",
       "    .dataframe thead th {\n",
       "        text-align: right;\n",
       "    }\n",
       "</style>\n",
       "<table border=\"1\" class=\"dataframe\">\n",
       "  <thead>\n",
       "    <tr style=\"text-align: right;\">\n",
       "      <th></th>\n",
       "      <th>Data_Emissão</th>\n",
       "      <th>CNPJ emit.</th>\n",
       "      <th>Emitente</th>\n",
       "      <th>No.</th>\n",
       "      <th>Valor NF</th>\n",
       "      <th>Data Registro</th>\n",
       "      <th>Créditos</th>\n",
       "      <th>Situação do Crédito</th>\n",
       "      <th>Ano</th>\n",
       "      <th>Semestre</th>\n",
       "      <th>Retorno</th>\n",
       "      <th>flag_credito</th>\n",
       "      <th>categoria</th>\n",
       "    </tr>\n",
       "  </thead>\n",
       "  <tbody>\n",
       "    <tr>\n",
       "      <th>0</th>\n",
       "      <td>2020-01-01</td>\n",
       "      <td>05.234.750/0001-41</td>\n",
       "      <td>TX BURGER LTDA</td>\n",
       "      <td>77882</td>\n",
       "      <td>78.80</td>\n",
       "      <td>2020-08-01</td>\n",
       "      <td>0.0</td>\n",
       "      <td>A Calcular</td>\n",
       "      <td>2019</td>\n",
       "      <td>2</td>\n",
       "      <td>0.0</td>\n",
       "      <td>0</td>\n",
       "      <td>não definido</td>\n",
       "    </tr>\n",
       "    <tr>\n",
       "      <th>1</th>\n",
       "      <td>2020-01-01</td>\n",
       "      <td>47.508.411/1476-88</td>\n",
       "      <td>CIA BRASILEIRA DE DISTRIBUICAO</td>\n",
       "      <td>20087</td>\n",
       "      <td>22.71</td>\n",
       "      <td>2020-01-01</td>\n",
       "      <td>0.0</td>\n",
       "      <td>A Calcular</td>\n",
       "      <td>2019</td>\n",
       "      <td>2</td>\n",
       "      <td>0.0</td>\n",
       "      <td>0</td>\n",
       "      <td>Mercado</td>\n",
       "    </tr>\n",
       "  </tbody>\n",
       "</table>\n",
       "</div>"
      ],
      "text/plain": [
       "  Data_Emissão          CNPJ emit.                        Emitente    No.  \\\n",
       "0   2020-01-01  05.234.750/0001-41                  TX BURGER LTDA  77882   \n",
       "1   2020-01-01  47.508.411/1476-88  CIA BRASILEIRA DE DISTRIBUICAO  20087   \n",
       "\n",
       "   Valor NF Data Registro  Créditos Situação do Crédito   Ano  Semestre  \\\n",
       "0     78.80    2020-08-01       0.0          A Calcular  2019         2   \n",
       "1     22.71    2020-01-01       0.0          A Calcular  2019         2   \n",
       "\n",
       "   Retorno  flag_credito     categoria  \n",
       "0      0.0             0  não definido  \n",
       "1      0.0             0       Mercado  "
      ]
     },
     "execution_count": 27,
     "metadata": {},
     "output_type": "execute_result"
    }
   ],
   "source": [
    "df = pd.read_pickle('base_nfp.pkl')\n",
    "df.rename(columns={'Data Emissão':'Data_Emissão'}, inplace=True)\n",
    "df.set_index('Data_Emissão', inplace=True)\n",
    "df_cut = df['2020-01-01':]\n",
    "df_cut.dropna(inplace=True)\n",
    "df_cut.reset_index(inplace=True)\n",
    "df_cut.head(2)"
   ]
  },
  {
   "cell_type": "markdown",
   "metadata": {},
   "source": [
    "## Criando variáveis\n",
    "\n",
    "**Variáveis temporais**: É possível que haja alguma regra de liberação de créditos de acordo com o dia do mês, o dia da semana, fim de semana (sim ou não), ou até alterações temporais da regra. Vamos criar as seguintes variáveis para testar estas hipóteses:\n",
    "\n",
    "- Dia da semana\n",
    "- Dummy para fim de semana\n",
    "- Dia do mês\n",
    "- Mês (já na base)\n",
    "- Trimestre\n",
    "- Ano (já na base)\n",
    "\n",
    "**Valor da nota**: Vamos criar também algumas variáveis para resumir o valor da nota, e posteriormente criar uma intuição sobre categorizações de variáveis contínuas.\n",
    "\n",
    "- Crie categorizações da variável ```Valor NF```, por quantís, em 5, 10, 20 e 50 categorias."
   ]
  },
  {
   "cell_type": "code",
   "execution_count": 28,
   "metadata": {},
   "outputs": [],
   "source": [
    "# Dia da semana\n",
    "\n",
    "df_cut['Dia_semana'] = df_cut['Data_Emissão'].dt.day_name()"
   ]
  },
  {
   "cell_type": "code",
   "execution_count": 29,
   "metadata": {},
   "outputs": [],
   "source": [
    "# Dummy para fim de semana\n",
    "\n",
    "df_cut['Fim_de_semana'] = ((df_cut['Data_Emissão'].dt.dayofweek) // 5 == 1).astype(float)"
   ]
  },
  {
   "cell_type": "code",
   "execution_count": 30,
   "metadata": {},
   "outputs": [],
   "source": [
    "# Dia do mês\n",
    "\n",
    "df_cut['Dia_mes'] = df_cut['Data_Emissão'].dt.day"
   ]
  },
  {
   "cell_type": "code",
   "execution_count": 31,
   "metadata": {},
   "outputs": [],
   "source": [
    "# Mês\n",
    "\n",
    "df_cut['Mes'] = df_cut['Data_Emissão'].dt.month"
   ]
  },
  {
   "cell_type": "code",
   "execution_count": 32,
   "metadata": {},
   "outputs": [],
   "source": [
    "# Trimestre\n",
    "\n",
    "df_cut['Trimestre'] = df_cut['Data_Emissão'].dt.quarter"
   ]
  },
  {
   "cell_type": "code",
   "execution_count": 33,
   "metadata": {},
   "outputs": [],
   "source": [
    "# Ano\n",
    "\n",
    "df_cut['Ano'] = df_cut['Data_Emissão'].dt.year"
   ]
  },
  {
   "cell_type": "code",
   "execution_count": 34,
   "metadata": {},
   "outputs": [
    {
     "data": {
      "text/html": [
       "<div>\n",
       "<style scoped>\n",
       "    .dataframe tbody tr th:only-of-type {\n",
       "        vertical-align: middle;\n",
       "    }\n",
       "\n",
       "    .dataframe tbody tr th {\n",
       "        vertical-align: top;\n",
       "    }\n",
       "\n",
       "    .dataframe thead th {\n",
       "        text-align: right;\n",
       "    }\n",
       "</style>\n",
       "<table border=\"1\" class=\"dataframe\">\n",
       "  <thead>\n",
       "    <tr style=\"text-align: right;\">\n",
       "      <th></th>\n",
       "      <th>Data_Emissão</th>\n",
       "      <th>CNPJ emit.</th>\n",
       "      <th>Emitente</th>\n",
       "      <th>No.</th>\n",
       "      <th>Valor NF</th>\n",
       "      <th>Data Registro</th>\n",
       "      <th>Créditos</th>\n",
       "      <th>Situação do Crédito</th>\n",
       "      <th>Ano</th>\n",
       "      <th>Semestre</th>\n",
       "      <th>Retorno</th>\n",
       "      <th>flag_credito</th>\n",
       "      <th>categoria</th>\n",
       "      <th>Dia_semana</th>\n",
       "      <th>Fim_de_semana</th>\n",
       "      <th>Dia_mes</th>\n",
       "      <th>Mes</th>\n",
       "      <th>Trimestre</th>\n",
       "    </tr>\n",
       "  </thead>\n",
       "  <tbody>\n",
       "    <tr>\n",
       "      <th>0</th>\n",
       "      <td>2020-01-01</td>\n",
       "      <td>05.234.750/0001-41</td>\n",
       "      <td>TX BURGER LTDA</td>\n",
       "      <td>77882</td>\n",
       "      <td>78.80</td>\n",
       "      <td>2020-08-01</td>\n",
       "      <td>0.0</td>\n",
       "      <td>A Calcular</td>\n",
       "      <td>2020</td>\n",
       "      <td>2</td>\n",
       "      <td>0.0</td>\n",
       "      <td>0</td>\n",
       "      <td>não definido</td>\n",
       "      <td>Wednesday</td>\n",
       "      <td>0.0</td>\n",
       "      <td>1</td>\n",
       "      <td>1</td>\n",
       "      <td>1</td>\n",
       "    </tr>\n",
       "    <tr>\n",
       "      <th>1</th>\n",
       "      <td>2020-01-01</td>\n",
       "      <td>47.508.411/1476-88</td>\n",
       "      <td>CIA BRASILEIRA DE DISTRIBUICAO</td>\n",
       "      <td>20087</td>\n",
       "      <td>22.71</td>\n",
       "      <td>2020-01-01</td>\n",
       "      <td>0.0</td>\n",
       "      <td>A Calcular</td>\n",
       "      <td>2020</td>\n",
       "      <td>2</td>\n",
       "      <td>0.0</td>\n",
       "      <td>0</td>\n",
       "      <td>Mercado</td>\n",
       "      <td>Wednesday</td>\n",
       "      <td>0.0</td>\n",
       "      <td>1</td>\n",
       "      <td>1</td>\n",
       "      <td>1</td>\n",
       "    </tr>\n",
       "  </tbody>\n",
       "</table>\n",
       "</div>"
      ],
      "text/plain": [
       "  Data_Emissão          CNPJ emit.                        Emitente    No.  \\\n",
       "0   2020-01-01  05.234.750/0001-41                  TX BURGER LTDA  77882   \n",
       "1   2020-01-01  47.508.411/1476-88  CIA BRASILEIRA DE DISTRIBUICAO  20087   \n",
       "\n",
       "   Valor NF Data Registro  Créditos Situação do Crédito   Ano  Semestre  \\\n",
       "0     78.80    2020-08-01       0.0          A Calcular  2020         2   \n",
       "1     22.71    2020-01-01       0.0          A Calcular  2020         2   \n",
       "\n",
       "   Retorno  flag_credito     categoria Dia_semana  Fim_de_semana  Dia_mes  \\\n",
       "0      0.0             0  não definido  Wednesday            0.0        1   \n",
       "1      0.0             0       Mercado  Wednesday            0.0        1   \n",
       "\n",
       "   Mes  Trimestre  \n",
       "0    1          1  \n",
       "1    1          1  "
      ]
     },
     "execution_count": 34,
     "metadata": {},
     "output_type": "execute_result"
    }
   ],
   "source": [
    "df_cut.head(2)"
   ]
  },
  {
   "cell_type": "code",
   "execution_count": 35,
   "metadata": {},
   "outputs": [],
   "source": [
    "df_cut['Valor_NF_5_cat'] = pd.qcut(x=df_cut['Valor NF'], q=5)\n",
    "df_cut['Valor_NF_10_cat'] = pd.qcut(x=df_cut['Valor NF'], q=10)\n",
    "df_cut['Valor_NF_20_cat'] = pd.qcut(x=df_cut['Valor NF'], q=20)\n",
    "df_cut['Valor_NF_50_cat'] = pd.qcut(x=df_cut['Valor NF'], q=50)"
   ]
  },
  {
   "cell_type": "code",
   "execution_count": 36,
   "metadata": {},
   "outputs": [
    {
     "data": {
      "text/html": [
       "<div>\n",
       "<style scoped>\n",
       "    .dataframe tbody tr th:only-of-type {\n",
       "        vertical-align: middle;\n",
       "    }\n",
       "\n",
       "    .dataframe tbody tr th {\n",
       "        vertical-align: top;\n",
       "    }\n",
       "\n",
       "    .dataframe thead th {\n",
       "        text-align: right;\n",
       "    }\n",
       "</style>\n",
       "<table border=\"1\" class=\"dataframe\">\n",
       "  <thead>\n",
       "    <tr style=\"text-align: right;\">\n",
       "      <th></th>\n",
       "      <th>Data_Emissão</th>\n",
       "      <th>CNPJ emit.</th>\n",
       "      <th>Emitente</th>\n",
       "      <th>No.</th>\n",
       "      <th>Valor NF</th>\n",
       "      <th>Data Registro</th>\n",
       "      <th>Créditos</th>\n",
       "      <th>Situação do Crédito</th>\n",
       "      <th>Ano</th>\n",
       "      <th>Semestre</th>\n",
       "      <th>...</th>\n",
       "      <th>categoria</th>\n",
       "      <th>Dia_semana</th>\n",
       "      <th>Fim_de_semana</th>\n",
       "      <th>Dia_mes</th>\n",
       "      <th>Mes</th>\n",
       "      <th>Trimestre</th>\n",
       "      <th>Valor_NF_5_cat</th>\n",
       "      <th>Valor_NF_10_cat</th>\n",
       "      <th>Valor_NF_20_cat</th>\n",
       "      <th>Valor_NF_50_cat</th>\n",
       "    </tr>\n",
       "  </thead>\n",
       "  <tbody>\n",
       "    <tr>\n",
       "      <th>0</th>\n",
       "      <td>2020-01-01</td>\n",
       "      <td>05.234.750/0001-41</td>\n",
       "      <td>TX BURGER LTDA</td>\n",
       "      <td>77882</td>\n",
       "      <td>78.80</td>\n",
       "      <td>2020-08-01</td>\n",
       "      <td>0.0</td>\n",
       "      <td>A Calcular</td>\n",
       "      <td>2020</td>\n",
       "      <td>2</td>\n",
       "      <td>...</td>\n",
       "      <td>não definido</td>\n",
       "      <td>Wednesday</td>\n",
       "      <td>0.0</td>\n",
       "      <td>1</td>\n",
       "      <td>1</td>\n",
       "      <td>1</td>\n",
       "      <td>(49.93, 92.314]</td>\n",
       "      <td>(67.53, 92.314]</td>\n",
       "      <td>(67.53, 79.1]</td>\n",
       "      <td>(76.59, 80.98]</td>\n",
       "    </tr>\n",
       "    <tr>\n",
       "      <th>1</th>\n",
       "      <td>2020-01-01</td>\n",
       "      <td>47.508.411/1476-88</td>\n",
       "      <td>CIA BRASILEIRA DE DISTRIBUICAO</td>\n",
       "      <td>20087</td>\n",
       "      <td>22.71</td>\n",
       "      <td>2020-01-01</td>\n",
       "      <td>0.0</td>\n",
       "      <td>A Calcular</td>\n",
       "      <td>2020</td>\n",
       "      <td>2</td>\n",
       "      <td>...</td>\n",
       "      <td>Mercado</td>\n",
       "      <td>Wednesday</td>\n",
       "      <td>0.0</td>\n",
       "      <td>1</td>\n",
       "      <td>1</td>\n",
       "      <td>1</td>\n",
       "      <td>(0.009000000000000001, 25.0]</td>\n",
       "      <td>(14.709, 25.0]</td>\n",
       "      <td>(19.9, 25.0]</td>\n",
       "      <td>(20.79, 22.98]</td>\n",
       "    </tr>\n",
       "  </tbody>\n",
       "</table>\n",
       "<p>2 rows × 22 columns</p>\n",
       "</div>"
      ],
      "text/plain": [
       "  Data_Emissão          CNPJ emit.                        Emitente    No.  \\\n",
       "0   2020-01-01  05.234.750/0001-41                  TX BURGER LTDA  77882   \n",
       "1   2020-01-01  47.508.411/1476-88  CIA BRASILEIRA DE DISTRIBUICAO  20087   \n",
       "\n",
       "   Valor NF Data Registro  Créditos Situação do Crédito   Ano  Semestre  ...  \\\n",
       "0     78.80    2020-08-01       0.0          A Calcular  2020         2  ...   \n",
       "1     22.71    2020-01-01       0.0          A Calcular  2020         2  ...   \n",
       "\n",
       "      categoria  Dia_semana Fim_de_semana Dia_mes  Mes  Trimestre  \\\n",
       "0  não definido   Wednesday           0.0       1    1          1   \n",
       "1       Mercado   Wednesday           0.0       1    1          1   \n",
       "\n",
       "                 Valor_NF_5_cat  Valor_NF_10_cat Valor_NF_20_cat  \\\n",
       "0               (49.93, 92.314]  (67.53, 92.314]   (67.53, 79.1]   \n",
       "1  (0.009000000000000001, 25.0]   (14.709, 25.0]    (19.9, 25.0]   \n",
       "\n",
       "  Valor_NF_50_cat  \n",
       "0  (76.59, 80.98]  \n",
       "1  (20.79, 22.98]  \n",
       "\n",
       "[2 rows x 22 columns]"
      ]
     },
     "execution_count": 36,
     "metadata": {},
     "output_type": "execute_result"
    }
   ],
   "source": [
    "df_cut.head(2)"
   ]
  },
  {
   "cell_type": "markdown",
   "metadata": {},
   "source": [
    "## Calcule o IV de todas essas variáveis\n",
    "\n",
    "Sugestão: Construa um metadados e tente utilizar uma função como a que foi utilizada durante a aula. Você vai conseguir fazer esse cálculo para as variáveis uma a uma, mas em casos reais em que vamos mais além na criação de variáveis, podemos ter centenas, ou até milhares de variáveis, esses cálculos *precisam* ser automáticos nesses casos."
   ]
  },
  {
   "cell_type": "code",
   "execution_count": 37,
   "metadata": {},
   "outputs": [
    {
     "name": "stdout",
     "output_type": "stream",
     "text": [
      "<class 'pandas.core.frame.DataFrame'>\n",
      "RangeIndex: 86000 entries, 0 to 85999\n",
      "Data columns (total 22 columns):\n",
      " #   Column               Non-Null Count  Dtype         \n",
      "---  ------               --------------  -----         \n",
      " 0   Data_Emissão         86000 non-null  datetime64[ns]\n",
      " 1   CNPJ emit.           86000 non-null  object        \n",
      " 2   Emitente             86000 non-null  object        \n",
      " 3   No.                  86000 non-null  int64         \n",
      " 4   Valor NF             86000 non-null  float64       \n",
      " 5   Data Registro        86000 non-null  datetime64[ns]\n",
      " 6   Créditos             86000 non-null  float64       \n",
      " 7   Situação do Crédito  86000 non-null  category      \n",
      " 8   Ano                  86000 non-null  int64         \n",
      " 9   Semestre             86000 non-null  int64         \n",
      " 10  Retorno              86000 non-null  float64       \n",
      " 11  flag_credito         86000 non-null  int64         \n",
      " 12  categoria            86000 non-null  object        \n",
      " 13  Dia_semana           86000 non-null  object        \n",
      " 14  Fim_de_semana        86000 non-null  float64       \n",
      " 15  Dia_mes              86000 non-null  int64         \n",
      " 16  Mes                  86000 non-null  int64         \n",
      " 17  Trimestre            86000 non-null  int64         \n",
      " 18  Valor_NF_5_cat       86000 non-null  category      \n",
      " 19  Valor_NF_10_cat      86000 non-null  category      \n",
      " 20  Valor_NF_20_cat      86000 non-null  category      \n",
      " 21  Valor_NF_50_cat      86000 non-null  category      \n",
      "dtypes: category(5), datetime64[ns](2), float64(4), int64(7), object(4)\n",
      "memory usage: 11.6+ MB\n"
     ]
    }
   ],
   "source": [
    "df_cut.info()"
   ]
  },
  {
   "cell_type": "code",
   "execution_count": 38,
   "metadata": {},
   "outputs": [
    {
     "data": {
      "text/html": [
       "<div>\n",
       "<style scoped>\n",
       "    .dataframe tbody tr th:only-of-type {\n",
       "        vertical-align: middle;\n",
       "    }\n",
       "\n",
       "    .dataframe tbody tr th {\n",
       "        vertical-align: top;\n",
       "    }\n",
       "\n",
       "    .dataframe thead th {\n",
       "        text-align: right;\n",
       "    }\n",
       "</style>\n",
       "<table border=\"1\" class=\"dataframe\">\n",
       "  <thead>\n",
       "    <tr style=\"text-align: right;\">\n",
       "      <th></th>\n",
       "      <th>dtype</th>\n",
       "    </tr>\n",
       "  </thead>\n",
       "  <tbody>\n",
       "    <tr>\n",
       "      <th>Ano</th>\n",
       "      <td>int64</td>\n",
       "    </tr>\n",
       "    <tr>\n",
       "      <th>Semestre</th>\n",
       "      <td>int64</td>\n",
       "    </tr>\n",
       "    <tr>\n",
       "      <th>flag_credito</th>\n",
       "      <td>int64</td>\n",
       "    </tr>\n",
       "    <tr>\n",
       "      <th>categoria</th>\n",
       "      <td>object</td>\n",
       "    </tr>\n",
       "    <tr>\n",
       "      <th>Dia_semana</th>\n",
       "      <td>object</td>\n",
       "    </tr>\n",
       "    <tr>\n",
       "      <th>Fim_de_semana</th>\n",
       "      <td>float64</td>\n",
       "    </tr>\n",
       "    <tr>\n",
       "      <th>Dia_mes</th>\n",
       "      <td>int64</td>\n",
       "    </tr>\n",
       "    <tr>\n",
       "      <th>Mes</th>\n",
       "      <td>int64</td>\n",
       "    </tr>\n",
       "    <tr>\n",
       "      <th>Trimestre</th>\n",
       "      <td>int64</td>\n",
       "    </tr>\n",
       "    <tr>\n",
       "      <th>Valor_NF_5_cat</th>\n",
       "      <td>category</td>\n",
       "    </tr>\n",
       "    <tr>\n",
       "      <th>Valor_NF_10_cat</th>\n",
       "      <td>category</td>\n",
       "    </tr>\n",
       "    <tr>\n",
       "      <th>Valor_NF_20_cat</th>\n",
       "      <td>category</td>\n",
       "    </tr>\n",
       "    <tr>\n",
       "      <th>Valor_NF_50_cat</th>\n",
       "      <td>category</td>\n",
       "    </tr>\n",
       "  </tbody>\n",
       "</table>\n",
       "</div>"
      ],
      "text/plain": [
       "                    dtype\n",
       "Ano                 int64\n",
       "Semestre            int64\n",
       "flag_credito        int64\n",
       "categoria          object\n",
       "Dia_semana         object\n",
       "Fim_de_semana     float64\n",
       "Dia_mes             int64\n",
       "Mes                 int64\n",
       "Trimestre           int64\n",
       "Valor_NF_5_cat   category\n",
       "Valor_NF_10_cat  category\n",
       "Valor_NF_20_cat  category\n",
       "Valor_NF_50_cat  category"
      ]
     },
     "execution_count": 38,
     "metadata": {},
     "output_type": "execute_result"
    }
   ],
   "source": [
    "# Definindo o metadados\n",
    "\n",
    "df_short = df_cut.drop(columns=['Data_Emissão', 'CNPJ emit.', 'Emitente', 'No.', 'Valor NF', 'Data Registro', 'Créditos', \n",
    "                     'Situação do Crédito', 'Retorno'])\n",
    "\n",
    "metadados = pd.DataFrame({'dtype':df_short.dtypes})\n",
    "metadados"
   ]
  },
  {
   "cell_type": "code",
   "execution_count": 39,
   "metadata": {},
   "outputs": [
    {
     "data": {
      "text/html": [
       "<div>\n",
       "<style scoped>\n",
       "    .dataframe tbody tr th:only-of-type {\n",
       "        vertical-align: middle;\n",
       "    }\n",
       "\n",
       "    .dataframe tbody tr th {\n",
       "        vertical-align: top;\n",
       "    }\n",
       "\n",
       "    .dataframe thead th {\n",
       "        text-align: right;\n",
       "    }\n",
       "</style>\n",
       "<table border=\"1\" class=\"dataframe\">\n",
       "  <thead>\n",
       "    <tr style=\"text-align: right;\">\n",
       "      <th></th>\n",
       "      <th>dtype</th>\n",
       "      <th>papel</th>\n",
       "      <th>nunique</th>\n",
       "    </tr>\n",
       "  </thead>\n",
       "  <tbody>\n",
       "    <tr>\n",
       "      <th>Ano</th>\n",
       "      <td>int64</td>\n",
       "      <td>covariavel</td>\n",
       "      <td>2</td>\n",
       "    </tr>\n",
       "    <tr>\n",
       "      <th>Semestre</th>\n",
       "      <td>int64</td>\n",
       "      <td>covariavel</td>\n",
       "      <td>2</td>\n",
       "    </tr>\n",
       "    <tr>\n",
       "      <th>flag_credito</th>\n",
       "      <td>int64</td>\n",
       "      <td>resposta</td>\n",
       "      <td>2</td>\n",
       "    </tr>\n",
       "    <tr>\n",
       "      <th>categoria</th>\n",
       "      <td>object</td>\n",
       "      <td>covariavel</td>\n",
       "      <td>9</td>\n",
       "    </tr>\n",
       "    <tr>\n",
       "      <th>Dia_semana</th>\n",
       "      <td>object</td>\n",
       "      <td>covariavel</td>\n",
       "      <td>7</td>\n",
       "    </tr>\n",
       "    <tr>\n",
       "      <th>Fim_de_semana</th>\n",
       "      <td>float64</td>\n",
       "      <td>covariavel</td>\n",
       "      <td>2</td>\n",
       "    </tr>\n",
       "    <tr>\n",
       "      <th>Dia_mes</th>\n",
       "      <td>int64</td>\n",
       "      <td>covariavel</td>\n",
       "      <td>31</td>\n",
       "    </tr>\n",
       "    <tr>\n",
       "      <th>Mes</th>\n",
       "      <td>int64</td>\n",
       "      <td>covariavel</td>\n",
       "      <td>12</td>\n",
       "    </tr>\n",
       "    <tr>\n",
       "      <th>Trimestre</th>\n",
       "      <td>int64</td>\n",
       "      <td>covariavel</td>\n",
       "      <td>4</td>\n",
       "    </tr>\n",
       "    <tr>\n",
       "      <th>Valor_NF_5_cat</th>\n",
       "      <td>category</td>\n",
       "      <td>covariavel</td>\n",
       "      <td>5</td>\n",
       "    </tr>\n",
       "    <tr>\n",
       "      <th>Valor_NF_10_cat</th>\n",
       "      <td>category</td>\n",
       "      <td>covariavel</td>\n",
       "      <td>10</td>\n",
       "    </tr>\n",
       "    <tr>\n",
       "      <th>Valor_NF_20_cat</th>\n",
       "      <td>category</td>\n",
       "      <td>covariavel</td>\n",
       "      <td>20</td>\n",
       "    </tr>\n",
       "    <tr>\n",
       "      <th>Valor_NF_50_cat</th>\n",
       "      <td>category</td>\n",
       "      <td>covariavel</td>\n",
       "      <td>50</td>\n",
       "    </tr>\n",
       "  </tbody>\n",
       "</table>\n",
       "</div>"
      ],
      "text/plain": [
       "                    dtype       papel  nunique\n",
       "Ano                 int64  covariavel        2\n",
       "Semestre            int64  covariavel        2\n",
       "flag_credito        int64    resposta        2\n",
       "categoria          object  covariavel        9\n",
       "Dia_semana         object  covariavel        7\n",
       "Fim_de_semana     float64  covariavel        2\n",
       "Dia_mes             int64  covariavel       31\n",
       "Mes                 int64  covariavel       12\n",
       "Trimestre           int64  covariavel        4\n",
       "Valor_NF_5_cat   category  covariavel        5\n",
       "Valor_NF_10_cat  category  covariavel       10\n",
       "Valor_NF_20_cat  category  covariavel       20\n",
       "Valor_NF_50_cat  category  covariavel       50"
      ]
     },
     "execution_count": 39,
     "metadata": {},
     "output_type": "execute_result"
    }
   ],
   "source": [
    "# Atribuindo papéis\n",
    "\n",
    "metadados['papel'] = 'covariavel'\n",
    "metadados.loc['flag_credito','papel'] = 'resposta'\n",
    "metadados['nunique'] = df_cut.nunique()\n",
    "metadados"
   ]
  },
  {
   "cell_type": "code",
   "execution_count": 40,
   "metadata": {},
   "outputs": [],
   "source": [
    "# Definindo a função\n",
    "\n",
    "def IV(variavel, resposta):\n",
    "    tab = pd.crosstab(variavel, resposta, margins=True, margins_name='total')\n",
    "\n",
    "    rótulo_evento = tab.columns[0]\n",
    "    rótulo_nao_evento = tab.columns[1]\n",
    "\n",
    "    tab['pct_evento'] = tab[rótulo_evento]/tab.loc['total',rótulo_evento]\n",
    "    tab['pct_nao_evento'] = tab[rótulo_nao_evento]/tab.loc['total',rótulo_nao_evento]\n",
    "    tab['woe'] = np.log(tab.pct_evento/tab.pct_nao_evento)\n",
    "    tab['iv_parcial'] = (tab.pct_evento - tab.pct_nao_evento)*tab.woe\n",
    "    return tab['iv_parcial'].sum()"
   ]
  },
  {
   "cell_type": "code",
   "execution_count": 41,
   "metadata": {},
   "outputs": [
    {
     "data": {
      "text/html": [
       "<div>\n",
       "<style scoped>\n",
       "    .dataframe tbody tr th:only-of-type {\n",
       "        vertical-align: middle;\n",
       "    }\n",
       "\n",
       "    .dataframe tbody tr th {\n",
       "        vertical-align: top;\n",
       "    }\n",
       "\n",
       "    .dataframe thead th {\n",
       "        text-align: right;\n",
       "    }\n",
       "</style>\n",
       "<table border=\"1\" class=\"dataframe\">\n",
       "  <thead>\n",
       "    <tr style=\"text-align: right;\">\n",
       "      <th></th>\n",
       "      <th>dtype</th>\n",
       "      <th>papel</th>\n",
       "      <th>nunique</th>\n",
       "      <th>IV</th>\n",
       "    </tr>\n",
       "  </thead>\n",
       "  <tbody>\n",
       "    <tr>\n",
       "      <th>Ano</th>\n",
       "      <td>int64</td>\n",
       "      <td>covariavel</td>\n",
       "      <td>2</td>\n",
       "      <td>0.002589</td>\n",
       "    </tr>\n",
       "    <tr>\n",
       "      <th>Semestre</th>\n",
       "      <td>int64</td>\n",
       "      <td>covariavel</td>\n",
       "      <td>2</td>\n",
       "      <td>0.003679</td>\n",
       "    </tr>\n",
       "    <tr>\n",
       "      <th>flag_credito</th>\n",
       "      <td>int64</td>\n",
       "      <td>resposta</td>\n",
       "      <td>2</td>\n",
       "      <td>NaN</td>\n",
       "    </tr>\n",
       "    <tr>\n",
       "      <th>categoria</th>\n",
       "      <td>object</td>\n",
       "      <td>covariavel</td>\n",
       "      <td>9</td>\n",
       "      <td>0.240964</td>\n",
       "    </tr>\n",
       "    <tr>\n",
       "      <th>Dia_semana</th>\n",
       "      <td>object</td>\n",
       "      <td>covariavel</td>\n",
       "      <td>7</td>\n",
       "      <td>0.006784</td>\n",
       "    </tr>\n",
       "    <tr>\n",
       "      <th>Fim_de_semana</th>\n",
       "      <td>float64</td>\n",
       "      <td>covariavel</td>\n",
       "      <td>2</td>\n",
       "      <td>0.005311</td>\n",
       "    </tr>\n",
       "    <tr>\n",
       "      <th>Dia_mes</th>\n",
       "      <td>int64</td>\n",
       "      <td>covariavel</td>\n",
       "      <td>31</td>\n",
       "      <td>0.012432</td>\n",
       "    </tr>\n",
       "    <tr>\n",
       "      <th>Mes</th>\n",
       "      <td>int64</td>\n",
       "      <td>covariavel</td>\n",
       "      <td>12</td>\n",
       "      <td>0.007772</td>\n",
       "    </tr>\n",
       "    <tr>\n",
       "      <th>Trimestre</th>\n",
       "      <td>int64</td>\n",
       "      <td>covariavel</td>\n",
       "      <td>4</td>\n",
       "      <td>0.003010</td>\n",
       "    </tr>\n",
       "    <tr>\n",
       "      <th>Valor_NF_5_cat</th>\n",
       "      <td>category</td>\n",
       "      <td>covariavel</td>\n",
       "      <td>5</td>\n",
       "      <td>0.044709</td>\n",
       "    </tr>\n",
       "    <tr>\n",
       "      <th>Valor_NF_10_cat</th>\n",
       "      <td>category</td>\n",
       "      <td>covariavel</td>\n",
       "      <td>10</td>\n",
       "      <td>0.056499</td>\n",
       "    </tr>\n",
       "    <tr>\n",
       "      <th>Valor_NF_20_cat</th>\n",
       "      <td>category</td>\n",
       "      <td>covariavel</td>\n",
       "      <td>20</td>\n",
       "      <td>0.067870</td>\n",
       "    </tr>\n",
       "    <tr>\n",
       "      <th>Valor_NF_50_cat</th>\n",
       "      <td>category</td>\n",
       "      <td>covariavel</td>\n",
       "      <td>50</td>\n",
       "      <td>0.080754</td>\n",
       "    </tr>\n",
       "  </tbody>\n",
       "</table>\n",
       "</div>"
      ],
      "text/plain": [
       "                    dtype       papel  nunique        IV\n",
       "Ano                 int64  covariavel        2  0.002589\n",
       "Semestre            int64  covariavel        2  0.003679\n",
       "flag_credito        int64    resposta        2       NaN\n",
       "categoria          object  covariavel        9  0.240964\n",
       "Dia_semana         object  covariavel        7  0.006784\n",
       "Fim_de_semana     float64  covariavel        2  0.005311\n",
       "Dia_mes             int64  covariavel       31  0.012432\n",
       "Mes                 int64  covariavel       12  0.007772\n",
       "Trimestre           int64  covariavel        4  0.003010\n",
       "Valor_NF_5_cat   category  covariavel        5  0.044709\n",
       "Valor_NF_10_cat  category  covariavel       10  0.056499\n",
       "Valor_NF_20_cat  category  covariavel       20  0.067870\n",
       "Valor_NF_50_cat  category  covariavel       50  0.080754"
      ]
     },
     "execution_count": 41,
     "metadata": {},
     "output_type": "execute_result"
    }
   ],
   "source": [
    "# Populando a metadados\n",
    "\n",
    "for var in metadados[metadados.papel=='covariavel'].index:\n",
    "    if  (metadados.loc[var, 'nunique']>50):\n",
    "        metadados.loc[var, 'IV'] = IV(pd.qcut(df_short[var],5,duplicates='drop'), df_short.flag_credito)\n",
    "    else: \n",
    "        metadados.loc[var, 'IV'] = IV(df_short[var], df_short.flag_credito)\n",
    "    \n",
    "metadados"
   ]
  },
  {
   "cell_type": "markdown",
   "metadata": {},
   "source": [
    "## Conclua\n",
    "\n",
    "- Quais variáveis parecem apresentar maior poder de discriminação segundo o IV?\n",
    "- Quando categorizamos variáveis contínuas parece haver alguma relação entre o número de categorias e o IV?"
   ]
  },
  {
   "cell_type": "markdown",
   "metadata": {},
   "source": [
    "**Conclusão:** A variável categoria possui poder preditivo médio e as variáveis categorizadas de Valor_NF possuem poder preditivo fraco. Quando categorizamos a variável continua Valor_NF notamos que aumentar o número de categorias aumentou o valor do IV."
   ]
  },
  {
   "cell_type": "markdown",
   "metadata": {},
   "source": [
    "## Descritiva simples no tempo\n",
    "\n",
    "Para compor a análise que virá a seguir, faça uma análise descritiva básica no tempo - utilize trimestre como agregação (ou uma média móvel por trimestre, como preferir) e avalie graficamente:\n",
    "\n",
    "- A quantidade de notas registradas na base por período\n",
    "- A quantidade de notas por categoria e por período\n",
    "- A proporção de notas com crédito por categoria por período"
   ]
  },
  {
   "cell_type": "code",
   "execution_count": 42,
   "metadata": {},
   "outputs": [
    {
     "data": {
      "text/html": [
       "<div>\n",
       "<style scoped>\n",
       "    .dataframe tbody tr th:only-of-type {\n",
       "        vertical-align: middle;\n",
       "    }\n",
       "\n",
       "    .dataframe tbody tr th {\n",
       "        vertical-align: top;\n",
       "    }\n",
       "\n",
       "    .dataframe thead th {\n",
       "        text-align: right;\n",
       "    }\n",
       "</style>\n",
       "<table border=\"1\" class=\"dataframe\">\n",
       "  <thead>\n",
       "    <tr style=\"text-align: right;\">\n",
       "      <th>flag_credito</th>\n",
       "      <th>0</th>\n",
       "      <th>1</th>\n",
       "      <th>soma</th>\n",
       "    </tr>\n",
       "    <tr>\n",
       "      <th>Trimestre</th>\n",
       "      <th></th>\n",
       "      <th></th>\n",
       "      <th></th>\n",
       "    </tr>\n",
       "  </thead>\n",
       "  <tbody>\n",
       "    <tr>\n",
       "      <th>1</th>\n",
       "      <td>11397</td>\n",
       "      <td>9146</td>\n",
       "      <td>20543</td>\n",
       "    </tr>\n",
       "    <tr>\n",
       "      <th>2</th>\n",
       "      <td>11847</td>\n",
       "      <td>8231</td>\n",
       "      <td>20078</td>\n",
       "    </tr>\n",
       "    <tr>\n",
       "      <th>3</th>\n",
       "      <td>12377</td>\n",
       "      <td>9720</td>\n",
       "      <td>22097</td>\n",
       "    </tr>\n",
       "    <tr>\n",
       "      <th>4</th>\n",
       "      <td>13061</td>\n",
       "      <td>10221</td>\n",
       "      <td>23282</td>\n",
       "    </tr>\n",
       "  </tbody>\n",
       "</table>\n",
       "</div>"
      ],
      "text/plain": [
       "flag_credito      0      1   soma\n",
       "Trimestre                        \n",
       "1             11397   9146  20543\n",
       "2             11847   8231  20078\n",
       "3             12377   9720  22097\n",
       "4             13061  10221  23282"
      ]
     },
     "execution_count": 42,
     "metadata": {},
     "output_type": "execute_result"
    }
   ],
   "source": [
    "df_cut_2 = df_cut.groupby(['Trimestre', 'flag_credito']).size().unstack(fill_value=0)\n",
    "df_cut_2['soma'] = df_cut_2.sum(axis=1)\n",
    "df_cut_2"
   ]
  },
  {
   "cell_type": "code",
   "execution_count": 43,
   "metadata": {},
   "outputs": [
    {
     "data": {
      "text/plain": [
       "<AxesSubplot:xlabel='Trimestre', ylabel='soma'>"
      ]
     },
     "execution_count": 43,
     "metadata": {},
     "output_type": "execute_result"
    },
    {
     "data": {
      "image/png": "[encoded data removed]",
      "text/plain": [
       "<Figure size 432x288 with 1 Axes>"
      ]
     },
     "metadata": {
      "needs_background": "light"
     },
     "output_type": "display_data"
    }
   ],
   "source": [
    "# A quantidade de notas registradas na base por período\n",
    "\n",
    "fig, ax = plt.subplots()\n",
    "\n",
    "sns.barplot(data=df_cut_2.reset_index(), x='Trimestre', y='soma', ci=None, ax=ax)"
   ]
  },
  {
   "cell_type": "code",
   "execution_count": 44,
   "metadata": {},
   "outputs": [
    {
     "data": {
      "text/html": [
       "<div>\n",
       "<style scoped>\n",
       "    .dataframe tbody tr th:only-of-type {\n",
       "        vertical-align: middle;\n",
       "    }\n",
       "\n",
       "    .dataframe tbody tr th {\n",
       "        vertical-align: top;\n",
       "    }\n",
       "\n",
       "    .dataframe thead th {\n",
       "        text-align: right;\n",
       "    }\n",
       "</style>\n",
       "<table border=\"1\" class=\"dataframe\">\n",
       "  <thead>\n",
       "    <tr style=\"text-align: right;\">\n",
       "      <th></th>\n",
       "      <th>flag_credito</th>\n",
       "      <th>0</th>\n",
       "      <th>1</th>\n",
       "      <th>soma</th>\n",
       "      <th>tx_evento</th>\n",
       "    </tr>\n",
       "    <tr>\n",
       "      <th>Trimestre</th>\n",
       "      <th>categoria</th>\n",
       "      <th></th>\n",
       "      <th></th>\n",
       "      <th></th>\n",
       "      <th></th>\n",
       "    </tr>\n",
       "  </thead>\n",
       "  <tbody>\n",
       "    <tr>\n",
       "      <th rowspan=\"5\" valign=\"top\">1</th>\n",
       "      <th>Alimentos</th>\n",
       "      <td>374</td>\n",
       "      <td>908</td>\n",
       "      <td>1282</td>\n",
       "      <td>2.427807</td>\n",
       "    </tr>\n",
       "    <tr>\n",
       "      <th>Auto posto</th>\n",
       "      <td>118</td>\n",
       "      <td>34</td>\n",
       "      <td>152</td>\n",
       "      <td>0.288136</td>\n",
       "    </tr>\n",
       "    <tr>\n",
       "      <th>Construção</th>\n",
       "      <td>2041</td>\n",
       "      <td>1811</td>\n",
       "      <td>3852</td>\n",
       "      <td>0.887310</td>\n",
       "    </tr>\n",
       "    <tr>\n",
       "      <th>Farmácia</th>\n",
       "      <td>1794</td>\n",
       "      <td>638</td>\n",
       "      <td>2432</td>\n",
       "      <td>0.355630</td>\n",
       "    </tr>\n",
       "    <tr>\n",
       "      <th>Mercado</th>\n",
       "      <td>3456</td>\n",
       "      <td>3271</td>\n",
       "      <td>6727</td>\n",
       "      <td>0.946470</td>\n",
       "    </tr>\n",
       "  </tbody>\n",
       "</table>\n",
       "</div>"
      ],
      "text/plain": [
       "flag_credito             0     1  soma  tx_evento\n",
       "Trimestre categoria                              \n",
       "1         Alimentos    374   908  1282   2.427807\n",
       "          Auto posto   118    34   152   0.288136\n",
       "          Construção  2041  1811  3852   0.887310\n",
       "          Farmácia    1794   638  2432   0.355630\n",
       "          Mercado     3456  3271  6727   0.946470"
      ]
     },
     "execution_count": 44,
     "metadata": {},
     "output_type": "execute_result"
    }
   ],
   "source": [
    "df_cut_3 = df_cut.groupby(['Trimestre', 'categoria', 'flag_credito']).size().unstack(fill_value=0)\n",
    "df_cut_3['soma'] = df_cut_3.sum(axis=1)\n",
    "df_cut_3['tx_evento'] = df_cut_3[1]/df_cut_3[0]\n",
    "df_cut_3.head()"
   ]
  },
  {
   "cell_type": "code",
   "execution_count": 45,
   "metadata": {},
   "outputs": [
    {
     "data": {
      "text/plain": [
       "<AxesSubplot:xlabel='categoria', ylabel='soma'>"
      ]
     },
     "execution_count": 45,
     "metadata": {},
     "output_type": "execute_result"
    },
    {
     "data": {
      "image/png": "[encoded data removed]",
      "text/plain": [
       "<Figure size 936x504 with 1 Axes>"
      ]
     },
     "metadata": {
      "needs_background": "light"
     },
     "output_type": "display_data"
    }
   ],
   "source": [
    "# A quantidade de notas por categoria e por período\n",
    "\n",
    "fig, ax = plt.subplots(figsize=(13,7))\n",
    "\n",
    "sns.barplot(data=df_cut_3.reset_index(), x='categoria', y='soma', hue = 'Trimestre', ci=None, ax=ax)"
   ]
  },
  {
   "cell_type": "code",
   "execution_count": 46,
   "metadata": {},
   "outputs": [
    {
     "data": {
      "text/plain": [
       "<AxesSubplot:xlabel='categoria', ylabel='tx_evento'>"
      ]
     },
     "execution_count": 46,
     "metadata": {},
     "output_type": "execute_result"
    },
    {
     "data": {
      "image/png": "[encoded data removed]",
      "text/plain": [
       "<Figure size 936x504 with 1 Axes>"
      ]
     },
     "metadata": {
      "needs_background": "light"
     },
     "output_type": "display_data"
    }
   ],
   "source": [
    "# A proporção de notas com crédito por categoria por período\n",
    "\n",
    "fig, ax = plt.subplots(figsize=(13,7))\n",
    "\n",
    "sns.barplot(data=df_cut_3.reset_index(), x='categoria', y='tx_evento', hue = 'Trimestre', ci=None, ax=ax)"
   ]
  },
  {
   "cell_type": "markdown",
   "metadata": {},
   "source": [
    "## Avalie o WOE e o IV no tempo\n",
    "\n",
    "Avalie o WOE e o IV no tempo da variável ```categoria```."
   ]
  },
  {
   "cell_type": "code",
   "execution_count": 47,
   "metadata": {},
   "outputs": [
    {
     "data": {
      "text/html": [
       "<div>\n",
       "<style scoped>\n",
       "    .dataframe tbody tr th:only-of-type {\n",
       "        vertical-align: middle;\n",
       "    }\n",
       "\n",
       "    .dataframe tbody tr th {\n",
       "        vertical-align: top;\n",
       "    }\n",
       "\n",
       "    .dataframe thead th {\n",
       "        text-align: right;\n",
       "    }\n",
       "</style>\n",
       "<table border=\"1\" class=\"dataframe\">\n",
       "  <thead>\n",
       "    <tr style=\"text-align: right;\">\n",
       "      <th></th>\n",
       "      <th>flag_credito</th>\n",
       "      <th>0</th>\n",
       "      <th>1</th>\n",
       "      <th>soma</th>\n",
       "      <th>tx_evento</th>\n",
       "      <th>pct_evento</th>\n",
       "      <th>pct_nao_evento</th>\n",
       "      <th>WOE</th>\n",
       "    </tr>\n",
       "    <tr>\n",
       "      <th>Trimestre</th>\n",
       "      <th>categoria</th>\n",
       "      <th></th>\n",
       "      <th></th>\n",
       "      <th></th>\n",
       "      <th></th>\n",
       "      <th></th>\n",
       "      <th></th>\n",
       "      <th></th>\n",
       "    </tr>\n",
       "  </thead>\n",
       "  <tbody>\n",
       "    <tr>\n",
       "      <th rowspan=\"5\" valign=\"top\">1</th>\n",
       "      <th>Alimentos</th>\n",
       "      <td>374</td>\n",
       "      <td>908</td>\n",
       "      <td>1282</td>\n",
       "      <td>2.427807</td>\n",
       "      <td>0.099278</td>\n",
       "      <td>0.032816</td>\n",
       "      <td>1.107022</td>\n",
       "    </tr>\n",
       "    <tr>\n",
       "      <th>Auto posto</th>\n",
       "      <td>118</td>\n",
       "      <td>34</td>\n",
       "      <td>152</td>\n",
       "      <td>0.288136</td>\n",
       "      <td>0.003717</td>\n",
       "      <td>0.010354</td>\n",
       "      <td>-1.024291</td>\n",
       "    </tr>\n",
       "    <tr>\n",
       "      <th>Construção</th>\n",
       "      <td>2041</td>\n",
       "      <td>1811</td>\n",
       "      <td>3852</td>\n",
       "      <td>0.887310</td>\n",
       "      <td>0.198010</td>\n",
       "      <td>0.179082</td>\n",
       "      <td>0.100473</td>\n",
       "    </tr>\n",
       "    <tr>\n",
       "      <th>Farmácia</th>\n",
       "      <td>1794</td>\n",
       "      <td>638</td>\n",
       "      <td>2432</td>\n",
       "      <td>0.355630</td>\n",
       "      <td>0.069757</td>\n",
       "      <td>0.157410</td>\n",
       "      <td>-0.813831</td>\n",
       "    </tr>\n",
       "    <tr>\n",
       "      <th>Mercado</th>\n",
       "      <td>3456</td>\n",
       "      <td>3271</td>\n",
       "      <td>6727</td>\n",
       "      <td>0.946470</td>\n",
       "      <td>0.357643</td>\n",
       "      <td>0.303238</td>\n",
       "      <td>0.165017</td>\n",
       "    </tr>\n",
       "  </tbody>\n",
       "</table>\n",
       "</div>"
      ],
      "text/plain": [
       "flag_credito             0     1  soma  tx_evento  pct_evento  pct_nao_evento  \\\n",
       "Trimestre categoria                                                             \n",
       "1         Alimentos    374   908  1282   2.427807    0.099278        0.032816   \n",
       "          Auto posto   118    34   152   0.288136    0.003717        0.010354   \n",
       "          Construção  2041  1811  3852   0.887310    0.198010        0.179082   \n",
       "          Farmácia    1794   638  2432   0.355630    0.069757        0.157410   \n",
       "          Mercado     3456  3271  6727   0.946470    0.357643        0.303238   \n",
       "\n",
       "flag_credito               WOE  \n",
       "Trimestre categoria             \n",
       "1         Alimentos   1.107022  \n",
       "          Auto posto -1.024291  \n",
       "          Construção  0.100473  \n",
       "          Farmácia   -0.813831  \n",
       "          Mercado     0.165017  "
      ]
     },
     "execution_count": 47,
     "metadata": {},
     "output_type": "execute_result"
    }
   ],
   "source": [
    "df_cut_3['pct_evento']     = df_cut_3[1]/df_cut_3[1].groupby(level=0).sum()\n",
    "df_cut_3['pct_nao_evento'] = df_cut_3[0]/df_cut_3[0].groupby(level=0).sum()\n",
    "df_cut_3['WOE'] = np.log(df_cut_3.pct_evento/df_cut_3.pct_nao_evento)\n",
    "df_cut_3.head()"
   ]
  },
  {
   "cell_type": "code",
   "execution_count": 48,
   "metadata": {},
   "outputs": [
    {
     "data": {
      "text/plain": [
       "<matplotlib.legend.Legend at 0x1a63e96e5b0>"
      ]
     },
     "execution_count": 48,
     "metadata": {},
     "output_type": "execute_result"
    },
    {
     "data": {
      "image/png": "[encoded data removed]",
      "text/plain": [
       "<Figure size 936x504 with 1 Axes>"
      ]
     },
     "metadata": {
      "needs_background": "light"
     },
     "output_type": "display_data"
    }
   ],
   "source": [
    "fig, ax = plt.subplots(figsize=(13,7))\n",
    "\n",
    "# Comando principal do gráfico\n",
    "sns.pointplot(data=df_cut_3.reset_index(), y = 'WOE', x = 'Trimestre', hue='categoria', ax=ax);\n",
    "\n",
    "#limites do gráfico - mostrando 1 e -1 para ter referência\n",
    "ymax = max(2.1, max(df_cut_3.WOE))\n",
    "ymin = min(-2.1, min(df_cut_3.WOE))\n",
    "ax.set_ylim([ymin, ymax])\n",
    "\n",
    "# Linhas de referência\n",
    "ax.axhline(2, linestyle=':'  , color='red', alpha=.5)\n",
    "ax.axhline(1, linestyle=':'  , color='red', alpha=.5)\n",
    "ax.axhline(0, linestyle='--' , color='grey', alpha=.5)\n",
    "ax.axhline(-1, linestyle=':' , color='red', alpha=.5)\n",
    "ax.axhline(-2, linestyle=':' , color='red', alpha=.5)\n",
    "\n",
    "ax.set_title(f'WOE ao longo dos trimestres para variável categorias')\n",
    "\n",
    "ax.legend(bbox_to_anchor=(.85, -.1), ncol=5)"
   ]
  },
  {
   "cell_type": "code",
   "execution_count": 49,
   "metadata": {},
   "outputs": [],
   "source": [
    "def plot_iv(IV):\n",
    "    fig, ax = plt.subplots()\n",
    "    x = IV.index\n",
    "    a = [.02]*len(IV.index)\n",
    "    b = [.1]*len(IV.index)\n",
    "    c = [.3]*len(IV.index)\n",
    "    d = [.5]*len(IV.index)\n",
    "    e = [.6]*len(IV.index)\n",
    "\n",
    "    ax.fill_between(IV.index, a, color='grey', alpha=.2)\n",
    "    ax.fill_between(IV.index, a, b, color='orange', alpha=.1)\n",
    "    ax.fill_between(IV.index, b, c, color='green', alpha=.1)\n",
    "    ax.fill_between(IV.index, c, d, color='blue', alpha=.1)\n",
    "    ax.fill_between(IV.index, d, e, color='purple', alpha=.1)\n",
    "    ax.plot(IV)\n",
    "\n",
    "    ax.set_title(\"Information Value de categoria ao longo dos Trimestres\")\n",
    "    ax.set_ylabel(\"Information Value\")\n",
    "    ax.set_xlabel(\"Trimestres\")"
   ]
  },
  {
   "cell_type": "code",
   "execution_count": 50,
   "metadata": {},
   "outputs": [
    {
     "data": {
      "image/png": "[encoded data removed]",
      "text/plain": [
       "<Figure size 432x288 with 1 Axes>"
      ]
     },
     "metadata": {
      "needs_background": "light"
     },
     "output_type": "display_data"
    }
   ],
   "source": [
    "plot_iv(((df_cut_3.pct_evento - df_cut_3.pct_nao_evento)*df_cut_3.WOE).groupby(level=0).sum())"
   ]
  },
  {
   "cell_type": "markdown",
   "metadata": {},
   "source": [
    "## Conclua\n",
    "\n",
    "- Quais categorias parece ter maior proporção de notas com retornos maiores que zero?\n",
    "- Essas diferenças são estáveis no tempo?\n",
    "\n",
    "Dicas:<br>\n",
    "- Considere que a quantidade de notas vem aumentando\n",
    "- Considere que há períodos bem atípicos no histórico\n",
    "- Considere que a partir de janeiro de 2020 o público é mais parecido com o público atual (2022), seja por pandemia, seja por crescimento do público, e considere os dados dessa data em diante na sua conclusão."
   ]
  },
  {
   "cell_type": "markdown",
   "metadata": {},
   "source": [
    "**Conclusão:** As categorias Alimentos e Restaurantes são as que possuem maior propoção de notas com retornos maiores que zero, Alimentos apresenta certa estabilidade no tempo, já Restaurantes tem uma alta considerável em Trimestres ímpares.\n",
    "\n",
    "No gráfico de IV observamos que a variável categoria mantém seu poder preditivo médio ao longo do tempo.\n",
    "Na categoria Farmácia observamos um fenómeno interessante de aumento constante no valor da WOE, podendo indicar que no futuro a taxa de evento desta categoria aumente."
   ]
  }
 ],
 "metadata": {
  "kernelspec": {
   "display_name": "Python 3 (ipykernel)",
   "language": "python",
   "name": "python3"
  },
  "language_info": {
   "codemirror_mode": {
    "name": "ipython",
    "version": 3
   },
   "file_extension": ".py",
   "mimetype": "text/x-python",
   "name": "python",
   "nbconvert_exporter": "python",
   "pygments_lexer": "ipython3",
   "version": "3.9.12"
  },
  "toc": {
   "base_numbering": 1,
   "nav_menu": {},
   "number_sections": false,
   "sideBar": true,
   "skip_h1_title": true,
   "title_cell": "Índice",
   "title_sidebar": "Conteúdo",
   "toc_cell": false,
   "toc_position": {},
   "toc_section_display": true,
   "toc_window_display": false
  },
  "varInspector": {
   "cols": {
    "lenName": 16,
    "lenType": 16,
    "lenVar": 40
   },
   "kernels_config": {
    "python": {
     "delete_cmd_postfix": "",
     "delete_cmd_prefix": "del ",
     "library": "var_list.py",
     "varRefreshCmd": "print(var_dic_list())"
    },
    "r": {
     "delete_cmd_postfix": ") ",
     "delete_cmd_prefix": "rm(",
     "library": "var_list.r",
     "varRefreshCmd": "cat(var_dic_list()) "
    }
   },
   "types_to_exclude": [
    "module",
    "function",
    "builtin_function_or_method",
    "instance",
    "_Feature"
   ],
   "window_display": false
  }
 },
 "nbformat": 4,
 "nbformat_minor": 4
}
