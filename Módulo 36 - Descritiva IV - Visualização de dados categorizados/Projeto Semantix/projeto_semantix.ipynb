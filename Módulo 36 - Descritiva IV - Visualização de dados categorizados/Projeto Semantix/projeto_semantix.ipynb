{
  "cells": [
    {
      "cell_type": "markdown",
      "metadata": {
        "id": "xd9icbfN1nl5"
      },
      "source": [
        "# Projeto de Parceria | Semantix\n",
        "\n",
        "Para a realização desse projeto, estou utilizando os dados da A Lyft Bikes and Scooters, que estão disponiveis para uso publico no Kaggle e podem ser acessdos no link abaixo:\n",
        " https://www.kaggle.com/datasets/kirilosyossif/cyclistic-case-study-google-certificate"
      ]
    },
    {
      "cell_type": "markdown",
      "metadata": {
        "id": "YyZifFOMTxd2"
      },
      "source": [
        "A Lyft Bikes and Scooters, LLC (\"Bikeshare\") opera o serviço de compartilhamento de bicicletas Divvy da cidade de Chicago (\"City\"). A Bikeshare e a Prefeitura estão empenhadas em apoiar a bicicleta como opção de transporte alternativo. Como parte desse compromisso, a Prefeitura permite que a Bikeshare disponibilize ao público determinados dados do sistema Divvy de propriedade da Prefeitura (\"Dados\").\n",
        "\n",
        "A proposta desse projeto é realizar uma análise exploratória dos dados e desenvolver um estudo de aprendizado de máquina."
      ]
    },
    {
      "cell_type": "code",
      "execution_count": 35,
      "metadata": {
        "id": "ACMQHFsdtcQe"
      },
      "outputs": [],
      "source": [
        "#Importação das bibliotecas\n",
        "\n",
        "import pandas as pd\n",
        "from datetime import datetime\n",
        "import matplotlib.pyplot as plt\n",
        "from sklearn.tree import DecisionTreeClassifier\n",
        "from sklearn.model_selection import train_test_split\n",
        "from sklearn.metrics import accuracy_score, confusion_matrix\n",
        "from sklearn.ensemble import RandomForestClassifier\n",
        "from sklearn.neighbors import KNeighborsClassifier"
      ]
    },
    {
      "cell_type": "markdown",
      "metadata": {},
      "source": [
        "# Estrutura"
      ]
    },
    {
      "cell_type": "code",
      "execution_count": 5,
      "metadata": {
        "colab": {
          "base_uri": "https://localhost:8080/"
        },
        "id": "8_dxxpa3s_LU",
        "outputId": "671c9eea-8cc8-4cc6-8b43-1e670c35aad4"
      },
      "outputs": [
        {
          "data": {
            "text/plain": [
              "(96834, 13)"
            ]
          },
          "execution_count": 5,
          "metadata": {},
          "output_type": "execute_result"
        }
      ],
      "source": [
        "#Leitura do CSV\n",
        "\n",
        "path = '202101-divvy-tripdata.csv'\n",
        "df = pd.read_csv (path) \n",
        "df.shape"
      ]
    },
    {
      "cell_type": "code",
      "execution_count": 6,
      "metadata": {
        "colab": {
          "base_uri": "https://localhost:8080/",
          "height": 444
        },
        "id": "1Gbe5v9NvdN1",
        "outputId": "f233f682-ae47-44ff-fa0e-29d36ab21e75"
      },
      "outputs": [
        {
          "data": {
            "text/html": [
              "<div>\n",
              "<style scoped>\n",
              "    .dataframe tbody tr th:only-of-type {\n",
              "        vertical-align: middle;\n",
              "    }\n",
              "\n",
              "    .dataframe tbody tr th {\n",
              "        vertical-align: top;\n",
              "    }\n",
              "\n",
              "    .dataframe thead th {\n",
              "        text-align: right;\n",
              "    }\n",
              "</style>\n",
              "<table border=\"1\" class=\"dataframe\">\n",
              "  <thead>\n",
              "    <tr style=\"text-align: right;\">\n",
              "      <th></th>\n",
              "      <th>ride_id</th>\n",
              "      <th>rideable_type</th>\n",
              "      <th>started_at</th>\n",
              "      <th>ended_at</th>\n",
              "      <th>start_station_name</th>\n",
              "      <th>start_station_id</th>\n",
              "      <th>end_station_name</th>\n",
              "      <th>end_station_id</th>\n",
              "      <th>start_lat</th>\n",
              "      <th>start_lng</th>\n",
              "      <th>end_lat</th>\n",
              "      <th>end_lng</th>\n",
              "      <th>member_casual</th>\n",
              "    </tr>\n",
              "  </thead>\n",
              "  <tbody>\n",
              "    <tr>\n",
              "      <th>0</th>\n",
              "      <td>E19E6F1B8D4C42ED</td>\n",
              "      <td>electric_bike</td>\n",
              "      <td>2021-01-23 16:14:19</td>\n",
              "      <td>2021-01-23 16:24:44</td>\n",
              "      <td>California Ave &amp; Cortez St</td>\n",
              "      <td>17660</td>\n",
              "      <td>NaN</td>\n",
              "      <td>NaN</td>\n",
              "      <td>41.900341</td>\n",
              "      <td>-87.696743</td>\n",
              "      <td>41.89</td>\n",
              "      <td>-87.72</td>\n",
              "      <td>member</td>\n",
              "    </tr>\n",
              "    <tr>\n",
              "      <th>1</th>\n",
              "      <td>DC88F20C2C55F27F</td>\n",
              "      <td>electric_bike</td>\n",
              "      <td>2021-01-27 18:43:08</td>\n",
              "      <td>2021-01-27 18:47:12</td>\n",
              "      <td>California Ave &amp; Cortez St</td>\n",
              "      <td>17660</td>\n",
              "      <td>NaN</td>\n",
              "      <td>NaN</td>\n",
              "      <td>41.900333</td>\n",
              "      <td>-87.696707</td>\n",
              "      <td>41.90</td>\n",
              "      <td>-87.69</td>\n",
              "      <td>member</td>\n",
              "    </tr>\n",
              "    <tr>\n",
              "      <th>2</th>\n",
              "      <td>EC45C94683FE3F27</td>\n",
              "      <td>electric_bike</td>\n",
              "      <td>2021-01-21 22:35:54</td>\n",
              "      <td>2021-01-21 22:37:14</td>\n",
              "      <td>California Ave &amp; Cortez St</td>\n",
              "      <td>17660</td>\n",
              "      <td>NaN</td>\n",
              "      <td>NaN</td>\n",
              "      <td>41.900313</td>\n",
              "      <td>-87.696643</td>\n",
              "      <td>41.90</td>\n",
              "      <td>-87.70</td>\n",
              "      <td>member</td>\n",
              "    </tr>\n",
              "    <tr>\n",
              "      <th>3</th>\n",
              "      <td>4FA453A75AE377DB</td>\n",
              "      <td>electric_bike</td>\n",
              "      <td>2021-01-07 13:31:13</td>\n",
              "      <td>2021-01-07 13:42:55</td>\n",
              "      <td>California Ave &amp; Cortez St</td>\n",
              "      <td>17660</td>\n",
              "      <td>NaN</td>\n",
              "      <td>NaN</td>\n",
              "      <td>41.900399</td>\n",
              "      <td>-87.696662</td>\n",
              "      <td>41.92</td>\n",
              "      <td>-87.69</td>\n",
              "      <td>member</td>\n",
              "    </tr>\n",
              "    <tr>\n",
              "      <th>4</th>\n",
              "      <td>BE5E8EB4E7263A0B</td>\n",
              "      <td>electric_bike</td>\n",
              "      <td>2021-01-23 02:24:02</td>\n",
              "      <td>2021-01-23 02:24:45</td>\n",
              "      <td>California Ave &amp; Cortez St</td>\n",
              "      <td>17660</td>\n",
              "      <td>NaN</td>\n",
              "      <td>NaN</td>\n",
              "      <td>41.900326</td>\n",
              "      <td>-87.696697</td>\n",
              "      <td>41.90</td>\n",
              "      <td>-87.70</td>\n",
              "      <td>casual</td>\n",
              "    </tr>\n",
              "  </tbody>\n",
              "</table>\n",
              "</div>"
            ],
            "text/plain": [
              "            ride_id  rideable_type           started_at             ended_at  \\\n",
              "0  E19E6F1B8D4C42ED  electric_bike  2021-01-23 16:14:19  2021-01-23 16:24:44   \n",
              "1  DC88F20C2C55F27F  electric_bike  2021-01-27 18:43:08  2021-01-27 18:47:12   \n",
              "2  EC45C94683FE3F27  electric_bike  2021-01-21 22:35:54  2021-01-21 22:37:14   \n",
              "3  4FA453A75AE377DB  electric_bike  2021-01-07 13:31:13  2021-01-07 13:42:55   \n",
              "4  BE5E8EB4E7263A0B  electric_bike  2021-01-23 02:24:02  2021-01-23 02:24:45   \n",
              "\n",
              "           start_station_name start_station_id end_station_name  \\\n",
              "0  California Ave & Cortez St            17660              NaN   \n",
              "1  California Ave & Cortez St            17660              NaN   \n",
              "2  California Ave & Cortez St            17660              NaN   \n",
              "3  California Ave & Cortez St            17660              NaN   \n",
              "4  California Ave & Cortez St            17660              NaN   \n",
              "\n",
              "  end_station_id  start_lat  start_lng  end_lat  end_lng member_casual  \n",
              "0            NaN  41.900341 -87.696743    41.89   -87.72        member  \n",
              "1            NaN  41.900333 -87.696707    41.90   -87.69        member  \n",
              "2            NaN  41.900313 -87.696643    41.90   -87.70        member  \n",
              "3            NaN  41.900399 -87.696662    41.92   -87.69        member  \n",
              "4            NaN  41.900326 -87.696697    41.90   -87.70        casual  "
            ]
          },
          "execution_count": 6,
          "metadata": {},
          "output_type": "execute_result"
        }
      ],
      "source": [
        "# Análise prévia da base de dados\n",
        "df.head (5)"
      ]
    },
    {
      "cell_type": "code",
      "execution_count": 7,
      "metadata": {},
      "outputs": [
        {
          "data": {
            "text/plain": [
              "ride_id                object\n",
              "rideable_type          object\n",
              "started_at             object\n",
              "ended_at               object\n",
              "start_station_name     object\n",
              "start_station_id       object\n",
              "end_station_name       object\n",
              "end_station_id         object\n",
              "start_lat             float64\n",
              "start_lng             float64\n",
              "end_lat               float64\n",
              "end_lng               float64\n",
              "member_casual          object\n",
              "dtype: object"
            ]
          },
          "execution_count": 7,
          "metadata": {},
          "output_type": "execute_result"
        }
      ],
      "source": [
        "df.dtypes"
      ]
    },
    {
      "cell_type": "code",
      "execution_count": 8,
      "metadata": {
        "colab": {
          "base_uri": "https://localhost:8080/"
        },
        "id": "Qc8xQdamwyGf",
        "outputId": "73b760af-a608-4eb0-b4ef-8b72df86feac"
      },
      "outputs": [
        {
          "data": {
            "text/plain": [
              "ride_id                   0\n",
              "rideable_type             0\n",
              "started_at                0\n",
              "ended_at                  0\n",
              "start_station_name     8625\n",
              "start_station_id       8625\n",
              "end_station_name      10277\n",
              "end_station_id        10277\n",
              "start_lat                 0\n",
              "start_lng                 0\n",
              "end_lat                 103\n",
              "end_lng                 103\n",
              "member_casual             0\n",
              "dtype: int64"
            ]
          },
          "execution_count": 8,
          "metadata": {},
          "output_type": "execute_result"
        }
      ],
      "source": [
        "# Identificando colunas com dados ausentes\n",
        "\n",
        "df.isna().sum()"
      ]
    },
    {
      "cell_type": "code",
      "execution_count": 9,
      "metadata": {
        "colab": {
          "base_uri": "https://localhost:8080/"
        },
        "id": "n5yv4aC6zF_A",
        "outputId": "c97a30d9-e540-40a6-92bf-7dfdc4526533"
      },
      "outputs": [
        {
          "data": {
            "text/plain": [
              "ride_id            0\n",
              "rideable_type      0\n",
              "started_at         0\n",
              "ended_at           0\n",
              "start_lat          0\n",
              "start_lng          0\n",
              "end_lat          103\n",
              "end_lng          103\n",
              "member_casual      0\n",
              "dtype: int64"
            ]
          },
          "execution_count": 9,
          "metadata": {},
          "output_type": "execute_result"
        }
      ],
      "source": [
        "# Removendo dados ausentes\n",
        "\n",
        "df = df.drop(columns = ['start_station_name', 'start_station_id', 'end_station_name', 'end_station_id'])\n",
        "df.isna().sum()"
      ]
    },
    {
      "cell_type": "code",
      "execution_count": 10,
      "metadata": {
        "id": "z5e8d4XL0GQB"
      },
      "outputs": [],
      "source": [
        "df = df.dropna()"
      ]
    },
    {
      "cell_type": "code",
      "execution_count": 11,
      "metadata": {
        "id": "cLAaAcbn1_hQ"
      },
      "outputs": [],
      "source": [
        "# Conversão de tipos de dados\n",
        "\n",
        "df['started_at']=pd.to_datetime(df['started_at'],format='%Y-%m-%d %H:%M:%S')\n",
        "df['ended_at']=pd.to_datetime(df['ended_at'],format='%Y-%m-%d %H:%M:%S')"
      ]
    },
    {
      "cell_type": "code",
      "execution_count": 12,
      "metadata": {
        "colab": {
          "base_uri": "https://localhost:8080/"
        },
        "id": "diSF9Gnax-N6",
        "outputId": "ceefcd0e-3275-484e-fc2d-269913154c34"
      },
      "outputs": [
        {
          "data": {
            "text/plain": [
              "ride_id                  object\n",
              "rideable_type            object\n",
              "started_at       datetime64[ns]\n",
              "ended_at         datetime64[ns]\n",
              "start_lat               float64\n",
              "start_lng               float64\n",
              "end_lat                 float64\n",
              "end_lng                 float64\n",
              "member_casual            object\n",
              "dtype: object"
            ]
          },
          "execution_count": 12,
          "metadata": {},
          "output_type": "execute_result"
        }
      ],
      "source": [
        "df.dtypes"
      ]
    },
    {
      "cell_type": "code",
      "execution_count": 13,
      "metadata": {
        "colab": {
          "base_uri": "https://localhost:8080/",
          "height": 444
        },
        "id": "G3hlGuZgykDs",
        "outputId": "ff033093-df5d-41a0-dd15-87da6e375f4d"
      },
      "outputs": [
        {
          "data": {
            "text/html": [
              "<div>\n",
              "<style scoped>\n",
              "    .dataframe tbody tr th:only-of-type {\n",
              "        vertical-align: middle;\n",
              "    }\n",
              "\n",
              "    .dataframe tbody tr th {\n",
              "        vertical-align: top;\n",
              "    }\n",
              "\n",
              "    .dataframe thead th {\n",
              "        text-align: right;\n",
              "    }\n",
              "</style>\n",
              "<table border=\"1\" class=\"dataframe\">\n",
              "  <thead>\n",
              "    <tr style=\"text-align: right;\">\n",
              "      <th></th>\n",
              "      <th>ride_id</th>\n",
              "      <th>rideable_type</th>\n",
              "      <th>started_at</th>\n",
              "      <th>ended_at</th>\n",
              "      <th>start_lat</th>\n",
              "      <th>start_lng</th>\n",
              "      <th>end_lat</th>\n",
              "      <th>end_lng</th>\n",
              "      <th>member_casual</th>\n",
              "      <th>duration</th>\n",
              "    </tr>\n",
              "  </thead>\n",
              "  <tbody>\n",
              "    <tr>\n",
              "      <th>0</th>\n",
              "      <td>E19E6F1B8D4C42ED</td>\n",
              "      <td>electric_bike</td>\n",
              "      <td>2021-01-23 16:14:19</td>\n",
              "      <td>2021-01-23 16:24:44</td>\n",
              "      <td>41.900341</td>\n",
              "      <td>-87.696743</td>\n",
              "      <td>41.89</td>\n",
              "      <td>-87.72</td>\n",
              "      <td>member</td>\n",
              "      <td>10.416667</td>\n",
              "    </tr>\n",
              "    <tr>\n",
              "      <th>1</th>\n",
              "      <td>DC88F20C2C55F27F</td>\n",
              "      <td>electric_bike</td>\n",
              "      <td>2021-01-27 18:43:08</td>\n",
              "      <td>2021-01-27 18:47:12</td>\n",
              "      <td>41.900333</td>\n",
              "      <td>-87.696707</td>\n",
              "      <td>41.90</td>\n",
              "      <td>-87.69</td>\n",
              "      <td>member</td>\n",
              "      <td>4.066667</td>\n",
              "    </tr>\n",
              "    <tr>\n",
              "      <th>2</th>\n",
              "      <td>EC45C94683FE3F27</td>\n",
              "      <td>electric_bike</td>\n",
              "      <td>2021-01-21 22:35:54</td>\n",
              "      <td>2021-01-21 22:37:14</td>\n",
              "      <td>41.900313</td>\n",
              "      <td>-87.696643</td>\n",
              "      <td>41.90</td>\n",
              "      <td>-87.70</td>\n",
              "      <td>member</td>\n",
              "      <td>1.333333</td>\n",
              "    </tr>\n",
              "    <tr>\n",
              "      <th>3</th>\n",
              "      <td>4FA453A75AE377DB</td>\n",
              "      <td>electric_bike</td>\n",
              "      <td>2021-01-07 13:31:13</td>\n",
              "      <td>2021-01-07 13:42:55</td>\n",
              "      <td>41.900399</td>\n",
              "      <td>-87.696662</td>\n",
              "      <td>41.92</td>\n",
              "      <td>-87.69</td>\n",
              "      <td>member</td>\n",
              "      <td>11.700000</td>\n",
              "    </tr>\n",
              "    <tr>\n",
              "      <th>4</th>\n",
              "      <td>BE5E8EB4E7263A0B</td>\n",
              "      <td>electric_bike</td>\n",
              "      <td>2021-01-23 02:24:02</td>\n",
              "      <td>2021-01-23 02:24:45</td>\n",
              "      <td>41.900326</td>\n",
              "      <td>-87.696697</td>\n",
              "      <td>41.90</td>\n",
              "      <td>-87.70</td>\n",
              "      <td>casual</td>\n",
              "      <td>0.716667</td>\n",
              "    </tr>\n",
              "  </tbody>\n",
              "</table>\n",
              "</div>"
            ],
            "text/plain": [
              "            ride_id  rideable_type          started_at            ended_at  \\\n",
              "0  E19E6F1B8D4C42ED  electric_bike 2021-01-23 16:14:19 2021-01-23 16:24:44   \n",
              "1  DC88F20C2C55F27F  electric_bike 2021-01-27 18:43:08 2021-01-27 18:47:12   \n",
              "2  EC45C94683FE3F27  electric_bike 2021-01-21 22:35:54 2021-01-21 22:37:14   \n",
              "3  4FA453A75AE377DB  electric_bike 2021-01-07 13:31:13 2021-01-07 13:42:55   \n",
              "4  BE5E8EB4E7263A0B  electric_bike 2021-01-23 02:24:02 2021-01-23 02:24:45   \n",
              "\n",
              "   start_lat  start_lng  end_lat  end_lng member_casual   duration  \n",
              "0  41.900341 -87.696743    41.89   -87.72        member  10.416667  \n",
              "1  41.900333 -87.696707    41.90   -87.69        member   4.066667  \n",
              "2  41.900313 -87.696643    41.90   -87.70        member   1.333333  \n",
              "3  41.900399 -87.696662    41.92   -87.69        member  11.700000  \n",
              "4  41.900326 -87.696697    41.90   -87.70        casual   0.716667  "
            ]
          },
          "execution_count": 13,
          "metadata": {},
          "output_type": "execute_result"
        }
      ],
      "source": [
        "# Inserindo uma nova coluna. A coluna `duration` representa a duração da corrida de bicicleta em minutos.\n",
        "\n",
        "df['duration']=df['ended_at']-df['started_at']\n",
        "df['duration']=df['duration'].apply(lambda x : x.total_seconds()/60)\n",
        "df.head()"
      ]
    },
    {
      "cell_type": "code",
      "execution_count": 14,
      "metadata": {
        "id": "Y7SGBKLhIHym"
      },
      "outputs": [],
      "source": [
        "# Remoção de corridas com duração negativa\n",
        "\n",
        "df=df[df['duration']>=0]"
      ]
    },
    {
      "cell_type": "markdown",
      "metadata": {
        "id": "H3ad4Hdl3jAb"
      },
      "source": [
        "\n",
        "\n",
        "# Visualização"
      ]
    },
    {
      "cell_type": "code",
      "execution_count": 15,
      "metadata": {
        "id": "VXlSPQBh3pKg"
      },
      "outputs": [],
      "source": [
        "df_member= df[df['member_casual']=='member']\n",
        "df_casual= df[df['member_casual']=='casual']"
      ]
    },
    {
      "cell_type": "code",
      "execution_count": 16,
      "metadata": {
        "colab": {
          "base_uri": "https://localhost:8080/",
          "height": 0
        },
        "id": "DhZA5mi23hOQ",
        "outputId": "0d0cd0b8-eb02-4d1d-d0b0-f87056ea5054"
      },
      "outputs": [
        {
          "data": {
            "text/html": [
              "<div>\n",
              "<style scoped>\n",
              "    .dataframe tbody tr th:only-of-type {\n",
              "        vertical-align: middle;\n",
              "    }\n",
              "\n",
              "    .dataframe tbody tr th {\n",
              "        vertical-align: top;\n",
              "    }\n",
              "\n",
              "    .dataframe thead th {\n",
              "        text-align: right;\n",
              "    }\n",
              "</style>\n",
              "<table border=\"1\" class=\"dataframe\">\n",
              "  <thead>\n",
              "    <tr style=\"text-align: right;\">\n",
              "      <th></th>\n",
              "      <th>ride_id</th>\n",
              "      <th>rideable_type</th>\n",
              "      <th>started_at</th>\n",
              "      <th>ended_at</th>\n",
              "      <th>start_lat</th>\n",
              "      <th>start_lng</th>\n",
              "      <th>end_lat</th>\n",
              "      <th>end_lng</th>\n",
              "      <th>member_casual</th>\n",
              "      <th>duration</th>\n",
              "    </tr>\n",
              "  </thead>\n",
              "  <tbody>\n",
              "    <tr>\n",
              "      <th>0</th>\n",
              "      <td>E19E6F1B8D4C42ED</td>\n",
              "      <td>electric_bike</td>\n",
              "      <td>2021-01-23 16:14:19</td>\n",
              "      <td>2021-01-23 16:24:44</td>\n",
              "      <td>41.900341</td>\n",
              "      <td>-87.696743</td>\n",
              "      <td>41.89</td>\n",
              "      <td>-87.72</td>\n",
              "      <td>member</td>\n",
              "      <td>10.416667</td>\n",
              "    </tr>\n",
              "    <tr>\n",
              "      <th>1</th>\n",
              "      <td>DC88F20C2C55F27F</td>\n",
              "      <td>electric_bike</td>\n",
              "      <td>2021-01-27 18:43:08</td>\n",
              "      <td>2021-01-27 18:47:12</td>\n",
              "      <td>41.900333</td>\n",
              "      <td>-87.696707</td>\n",
              "      <td>41.90</td>\n",
              "      <td>-87.69</td>\n",
              "      <td>member</td>\n",
              "      <td>4.066667</td>\n",
              "    </tr>\n",
              "    <tr>\n",
              "      <th>2</th>\n",
              "      <td>EC45C94683FE3F27</td>\n",
              "      <td>electric_bike</td>\n",
              "      <td>2021-01-21 22:35:54</td>\n",
              "      <td>2021-01-21 22:37:14</td>\n",
              "      <td>41.900313</td>\n",
              "      <td>-87.696643</td>\n",
              "      <td>41.90</td>\n",
              "      <td>-87.70</td>\n",
              "      <td>member</td>\n",
              "      <td>1.333333</td>\n",
              "    </tr>\n",
              "    <tr>\n",
              "      <th>3</th>\n",
              "      <td>4FA453A75AE377DB</td>\n",
              "      <td>electric_bike</td>\n",
              "      <td>2021-01-07 13:31:13</td>\n",
              "      <td>2021-01-07 13:42:55</td>\n",
              "      <td>41.900399</td>\n",
              "      <td>-87.696662</td>\n",
              "      <td>41.92</td>\n",
              "      <td>-87.69</td>\n",
              "      <td>member</td>\n",
              "      <td>11.700000</td>\n",
              "    </tr>\n",
              "    <tr>\n",
              "      <th>6</th>\n",
              "      <td>09275CC10F854E9E</td>\n",
              "      <td>electric_bike</td>\n",
              "      <td>2021-01-04 05:05:04</td>\n",
              "      <td>2021-01-04 05:10:39</td>\n",
              "      <td>41.900391</td>\n",
              "      <td>-87.696757</td>\n",
              "      <td>41.90</td>\n",
              "      <td>-87.71</td>\n",
              "      <td>member</td>\n",
              "      <td>5.583333</td>\n",
              "    </tr>\n",
              "  </tbody>\n",
              "</table>\n",
              "</div>"
            ],
            "text/plain": [
              "            ride_id  rideable_type          started_at            ended_at  \\\n",
              "0  E19E6F1B8D4C42ED  electric_bike 2021-01-23 16:14:19 2021-01-23 16:24:44   \n",
              "1  DC88F20C2C55F27F  electric_bike 2021-01-27 18:43:08 2021-01-27 18:47:12   \n",
              "2  EC45C94683FE3F27  electric_bike 2021-01-21 22:35:54 2021-01-21 22:37:14   \n",
              "3  4FA453A75AE377DB  electric_bike 2021-01-07 13:31:13 2021-01-07 13:42:55   \n",
              "6  09275CC10F854E9E  electric_bike 2021-01-04 05:05:04 2021-01-04 05:10:39   \n",
              "\n",
              "   start_lat  start_lng  end_lat  end_lng member_casual   duration  \n",
              "0  41.900341 -87.696743    41.89   -87.72        member  10.416667  \n",
              "1  41.900333 -87.696707    41.90   -87.69        member   4.066667  \n",
              "2  41.900313 -87.696643    41.90   -87.70        member   1.333333  \n",
              "3  41.900399 -87.696662    41.92   -87.69        member  11.700000  \n",
              "6  41.900391 -87.696757    41.90   -87.71        member   5.583333  "
            ]
          },
          "execution_count": 16,
          "metadata": {},
          "output_type": "execute_result"
        }
      ],
      "source": [
        "df_member.head()"
      ]
    },
    {
      "cell_type": "code",
      "execution_count": 17,
      "metadata": {
        "colab": {
          "base_uri": "https://localhost:8080/",
          "height": 0
        },
        "id": "Lq1Jb_0n6gdS",
        "outputId": "b6d9e7a2-2a50-4f83-b9ff-49c919c27078"
      },
      "outputs": [
        {
          "data": {
            "text/html": [
              "<div>\n",
              "<style scoped>\n",
              "    .dataframe tbody tr th:only-of-type {\n",
              "        vertical-align: middle;\n",
              "    }\n",
              "\n",
              "    .dataframe tbody tr th {\n",
              "        vertical-align: top;\n",
              "    }\n",
              "\n",
              "    .dataframe thead th {\n",
              "        text-align: right;\n",
              "    }\n",
              "</style>\n",
              "<table border=\"1\" class=\"dataframe\">\n",
              "  <thead>\n",
              "    <tr style=\"text-align: right;\">\n",
              "      <th></th>\n",
              "      <th>ride_id</th>\n",
              "      <th>rideable_type</th>\n",
              "      <th>started_at</th>\n",
              "      <th>ended_at</th>\n",
              "      <th>start_lat</th>\n",
              "      <th>start_lng</th>\n",
              "      <th>end_lat</th>\n",
              "      <th>end_lng</th>\n",
              "      <th>member_casual</th>\n",
              "      <th>duration</th>\n",
              "    </tr>\n",
              "  </thead>\n",
              "  <tbody>\n",
              "    <tr>\n",
              "      <th>4</th>\n",
              "      <td>BE5E8EB4E7263A0B</td>\n",
              "      <td>electric_bike</td>\n",
              "      <td>2021-01-23 02:24:02</td>\n",
              "      <td>2021-01-23 02:24:45</td>\n",
              "      <td>41.900326</td>\n",
              "      <td>-87.696697</td>\n",
              "      <td>41.900000</td>\n",
              "      <td>-87.700000</td>\n",
              "      <td>casual</td>\n",
              "      <td>0.716667</td>\n",
              "    </tr>\n",
              "    <tr>\n",
              "      <th>5</th>\n",
              "      <td>5D8969F88C773979</td>\n",
              "      <td>electric_bike</td>\n",
              "      <td>2021-01-09 14:24:07</td>\n",
              "      <td>2021-01-09 15:17:54</td>\n",
              "      <td>41.900409</td>\n",
              "      <td>-87.696763</td>\n",
              "      <td>41.940000</td>\n",
              "      <td>-87.710000</td>\n",
              "      <td>casual</td>\n",
              "      <td>53.783333</td>\n",
              "    </tr>\n",
              "    <tr>\n",
              "      <th>11</th>\n",
              "      <td>57C750326F9FDABE</td>\n",
              "      <td>electric_bike</td>\n",
              "      <td>2021-01-09 15:28:04</td>\n",
              "      <td>2021-01-09 15:37:51</td>\n",
              "      <td>41.900374</td>\n",
              "      <td>-87.696688</td>\n",
              "      <td>41.899180</td>\n",
              "      <td>-87.672178</td>\n",
              "      <td>casual</td>\n",
              "      <td>9.783333</td>\n",
              "    </tr>\n",
              "    <tr>\n",
              "      <th>12</th>\n",
              "      <td>4D518C65E338D070</td>\n",
              "      <td>electric_bike</td>\n",
              "      <td>2021-01-09 15:28:57</td>\n",
              "      <td>2021-01-09 15:37:54</td>\n",
              "      <td>41.900379</td>\n",
              "      <td>-87.696716</td>\n",
              "      <td>41.899149</td>\n",
              "      <td>-87.672177</td>\n",
              "      <td>casual</td>\n",
              "      <td>8.950000</td>\n",
              "    </tr>\n",
              "    <tr>\n",
              "      <th>13</th>\n",
              "      <td>9D08A3AFF410474D</td>\n",
              "      <td>classic_bike</td>\n",
              "      <td>2021-01-24 15:56:59</td>\n",
              "      <td>2021-01-24 16:07:08</td>\n",
              "      <td>41.900363</td>\n",
              "      <td>-87.696704</td>\n",
              "      <td>41.899181</td>\n",
              "      <td>-87.672200</td>\n",
              "      <td>casual</td>\n",
              "      <td>10.150000</td>\n",
              "    </tr>\n",
              "  </tbody>\n",
              "</table>\n",
              "</div>"
            ],
            "text/plain": [
              "             ride_id  rideable_type          started_at            ended_at  \\\n",
              "4   BE5E8EB4E7263A0B  electric_bike 2021-01-23 02:24:02 2021-01-23 02:24:45   \n",
              "5   5D8969F88C773979  electric_bike 2021-01-09 14:24:07 2021-01-09 15:17:54   \n",
              "11  57C750326F9FDABE  electric_bike 2021-01-09 15:28:04 2021-01-09 15:37:51   \n",
              "12  4D518C65E338D070  electric_bike 2021-01-09 15:28:57 2021-01-09 15:37:54   \n",
              "13  9D08A3AFF410474D   classic_bike 2021-01-24 15:56:59 2021-01-24 16:07:08   \n",
              "\n",
              "    start_lat  start_lng    end_lat    end_lng member_casual   duration  \n",
              "4   41.900326 -87.696697  41.900000 -87.700000        casual   0.716667  \n",
              "5   41.900409 -87.696763  41.940000 -87.710000        casual  53.783333  \n",
              "11  41.900374 -87.696688  41.899180 -87.672178        casual   9.783333  \n",
              "12  41.900379 -87.696716  41.899149 -87.672177        casual   8.950000  \n",
              "13  41.900363 -87.696704  41.899181 -87.672200        casual  10.150000  "
            ]
          },
          "execution_count": 17,
          "metadata": {},
          "output_type": "execute_result"
        }
      ],
      "source": [
        "df_casual.head()"
      ]
    },
    {
      "cell_type": "code",
      "execution_count": 18,
      "metadata": {
        "colab": {
          "base_uri": "https://localhost:8080/",
          "height": 0
        },
        "id": "qrJd804e7bJe",
        "outputId": "56f24454-afc2-47e8-e9c8-0b4d36bbef8c"
      },
      "outputs": [
        {
          "data": {
            "text/plain": [
              "(array([ 3983., 13965., 15337., 11424.,  8180.,  5872.,  4414.,  3462.,\n",
              "         2498.,  1909.]),\n",
              " array([ 0. ,  2.5,  5. ,  7.5, 10. , 12.5, 15. , 17.5, 20. , 22.5, 25. ]),\n",
              " <BarContainer object of 10 artists>)"
            ]
          },
          "execution_count": 18,
          "metadata": {},
          "output_type": "execute_result"
        },
        {
          "data": {
            "image/png": "[encoded data removed]",
            "text/plain": [
              "<Figure size 640x480 with 2 Axes>"
            ]
          },
          "metadata": {},
          "output_type": "display_data"
        }
      ],
      "source": [
        "figura, eixos=plt.subplots(1,2)\n",
        "eixos[0].hist(df_casual['duration'],range=(0,25),ec='white')\n",
        "eixos[1].hist(df_member['duration'],range=(0,25),ec='white')"
      ]
    },
    {
      "cell_type": "code",
      "execution_count": 19,
      "metadata": {
        "colab": {
          "base_uri": "https://localhost:8080/"
        },
        "id": "5PajQusfGFkA",
        "outputId": "01c08b65-d37e-4192-85b9-5ff256346ed3"
      },
      "outputs": [
        {
          "data": {
            "text/plain": [
              "count    18095.000000\n",
              "mean        24.467703\n",
              "std        178.506708\n",
              "min          0.016667\n",
              "25%          7.366667\n",
              "50%         12.266667\n",
              "75%         22.450000\n",
              "max      19825.916667\n",
              "Name: duration, dtype: float64"
            ]
          },
          "execution_count": 19,
          "metadata": {},
          "output_type": "execute_result"
        }
      ],
      "source": [
        "# Calculando média, quartis, desvio padrão, mínimo e máximo - Usuário casual\n",
        "\n",
        "df_casual['duration'].describe()"
      ]
    },
    {
      "cell_type": "code",
      "execution_count": 20,
      "metadata": {
        "colab": {
          "base_uri": "https://localhost:8080/"
        },
        "id": "zs9BTJQdHAcW",
        "outputId": "66831740-2976-4031-9595-341da8a2ab20"
      },
      "outputs": [
        {
          "data": {
            "text/plain": [
              "count    78635.000000\n",
              "mean        12.494131\n",
              "std         23.833740\n",
              "min          0.000000\n",
              "25%          5.250000\n",
              "50%          8.683333\n",
              "75%         15.083333\n",
              "max       1470.166667\n",
              "Name: duration, dtype: float64"
            ]
          },
          "execution_count": 20,
          "metadata": {},
          "output_type": "execute_result"
        }
      ],
      "source": [
        "# Calculando média, quartis, desvio padrão, mínimo e máximo - Usuário member\n",
        "\n",
        "df_member['duration'].describe()"
      ]
    },
    {
      "cell_type": "markdown",
      "metadata": {
        "id": "WkeH6JfrKkRk"
      },
      "source": [
        "##### Observa-se que as médias estão distantes das medianas. Isso é devido à existência de outliers. No entanto, nota-se similaridade entre as medianas, indicando que não há correlação entre o usuário 'member' e a duração da corrida."
      ]
    },
    {
      "cell_type": "code",
      "execution_count": 21,
      "metadata": {
        "id": "CZoUMhHABQhL"
      },
      "outputs": [],
      "source": [
        "df_electric= df[df['rideable_type']=='electric_bike']\n",
        "df_classic= df[df['rideable_type']=='classic_bike']\n",
        "df_docked= df[df['rideable_type']=='docked_bike']"
      ]
    },
    {
      "cell_type": "code",
      "execution_count": 24,
      "metadata": {
        "colab": {
          "base_uri": "https://localhost:8080/",
          "height": 0
        },
        "id": "CT1lz8e9fMDA",
        "outputId": "2c1b6fc0-01a4-459f-a90c-562a7b1aca9e"
      },
      "outputs": [
        {
          "data": {
            "image/png": "[encoded data removed]",
            "text/plain": [
              "<Figure size 1500x500 with 3 Axes>"
            ]
          },
          "metadata": {},
          "output_type": "display_data"
        }
      ],
      "source": [
        "figura, eixos=plt.subplots(1,3,figsize=(15,5))\n",
        "eixos[0].hist(df_electric['duration'],range=(0,100),ec='white')\n",
        "eixos[1].hist(df_classic['duration'],range=(0,100),ec='white')\n",
        "eixos[2].hist(df_docked['duration'],range=(0,100),ec='white')\n",
        "figura.suptitle('Duração dos tipos de bike')\n",
        "eixos[0].set_xlabel('duração (m)')\n",
        "eixos[0].set_ylabel('quantidade de corridas')\n",
        "eixos[0].set_title('bike eletrica')\n",
        "eixos[1].set_title('bike classic')\n",
        "eixos[2].set_title('bike docked')\n",
        "figura.tight_layout(pad=3.0)"
      ]
    },
    {
      "cell_type": "markdown",
      "metadata": {
        "id": "qQQJ1BQVLaBZ"
      },
      "source": [
        "##### Métricas de média, quartis, desvio padrão, mínimo e máximo. Visualização por tipo de bicicleta."
      ]
    },
    {
      "cell_type": "code",
      "execution_count": 25,
      "metadata": {
        "colab": {
          "base_uri": "https://localhost:8080/"
        },
        "id": "puhlo756JUog",
        "outputId": "9436fc68-9177-47a9-e153-05c7ec2404d7"
      },
      "outputs": [
        {
          "data": {
            "text/plain": [
              "count    33027.000000\n",
              "mean        12.438091\n",
              "std         14.537077\n",
              "min          0.000000\n",
              "25%          5.166667\n",
              "50%          8.650000\n",
              "75%         14.950000\n",
              "max        480.000000\n",
              "Name: duration, dtype: float64"
            ]
          },
          "execution_count": 25,
          "metadata": {},
          "output_type": "execute_result"
        }
      ],
      "source": [
        "df_electric['duration'].describe()"
      ]
    },
    {
      "cell_type": "code",
      "execution_count": 26,
      "metadata": {
        "colab": {
          "base_uri": "https://localhost:8080/"
        },
        "id": "dq3sUBU-JlKY",
        "outputId": "cd443c8f-a44d-4f43-edb5-20b2bb6df6bb"
      },
      "outputs": [
        {
          "data": {
            "text/plain": [
              "count    61597.000000\n",
              "mean        14.082934\n",
              "std         31.898596\n",
              "min          0.000000\n",
              "25%          5.666667\n",
              "50%          9.400000\n",
              "75%         16.416667\n",
              "max       1489.066667\n",
              "Name: duration, dtype: float64"
            ]
          },
          "execution_count": 26,
          "metadata": {},
          "output_type": "execute_result"
        }
      ],
      "source": [
        "df_classic['duration'].describe()"
      ]
    },
    {
      "cell_type": "code",
      "execution_count": 27,
      "metadata": {
        "colab": {
          "base_uri": "https://localhost:8080/"
        },
        "id": "wJvqjDGKJsCX",
        "outputId": "d22f0ee2-4a90-4182-b037-a7e21c5d6a28"
      },
      "outputs": [
        {
          "data": {
            "text/plain": [
              "count     2106.000000\n",
              "mean        69.781481\n",
              "std        509.808455\n",
              "min          0.066667\n",
              "25%         12.200000\n",
              "50%         22.950000\n",
              "75%         39.983333\n",
              "max      19825.916667\n",
              "Name: duration, dtype: float64"
            ]
          },
          "execution_count": 27,
          "metadata": {},
          "output_type": "execute_result"
        }
      ],
      "source": [
        "df_docked['duration'].describe()"
      ]
    },
    {
      "cell_type": "markdown",
      "metadata": {
        "id": "hxhdonsRL5V2"
      },
      "source": [
        "#### Comparando os dados nota-se que a duração das corridas com as bicicletas docked possui média e mediana maiores, a bicicleta elétrica é mais rápida e mostra uma duração de corrida um pouco menor em comparação com a bicicleta clássica. Quanto aos usuários da bicicleta docked, é possível que não estejam consumindo o tempo integral do aluguel."
      ]
    },
    {
      "cell_type": "markdown",
      "metadata": {
        "id": "YPVxFZu1G3D9"
      },
      "source": [
        "# Aprendizado de máquina \n",
        "\n",
        "##### O objetivo é utilizar o aprendizado de máquina para prever através das colunas da tabela, qual o tipo de bicicleta que será utilizada em uma corrida."
      ]
    },
    {
      "cell_type": "code",
      "execution_count": 28,
      "metadata": {
        "id": "Ad8ZxW9yUgWL"
      },
      "outputs": [],
      "source": [
        "# Alterando a coluna 'rideable_type' para valores inteiros\n",
        "\n",
        "df['rideable_type']=df['rideable_type'].replace(['classic_bike', 'docked_bike', 'electric_bike'], [0,1,2])"
      ]
    },
    {
      "cell_type": "code",
      "execution_count": 29,
      "metadata": {
        "id": "pyC9zLTBUf-B"
      },
      "outputs": [],
      "source": [
        "# Alterando a coluna 'member_casual' para valores inteiros\n",
        "\n",
        "df['member_casual']=df['member_casual'].replace(['member', 'casual'], [0,1])"
      ]
    },
    {
      "cell_type": "code",
      "execution_count": 30,
      "metadata": {
        "id": "2rqWJUN1H8Jc"
      },
      "outputs": [],
      "source": [
        "# Definição da coluna 'rideable_type' como variável resposta (y) e das colunas 'duration' e 'member casual' como variáveis preditoras (X).\n",
        "\n",
        "y=df['rideable_type'].astype('int')\n",
        "X=df[['duration','member_casual']]\n",
        "\n",
        "# Definindo os conjuntos de treino e teste\n",
        "\n",
        "X_train, X_val, y_train, y_val=train_test_split(X,y)"
      ]
    },
    {
      "cell_type": "code",
      "execution_count": 31,
      "metadata": {
        "colab": {
          "base_uri": "https://localhost:8080/"
        },
        "id": "GcD53In1KNbx",
        "outputId": "25a9e31f-2339-48cf-c44a-47628c99abbd"
      },
      "outputs": [
        {
          "data": {
            "text/html": [
              "<style>#sk-container-id-1 {color: black;}#sk-container-id-1 pre{padding: 0;}#sk-container-id-1 div.sk-toggleable {background-color: white;}#sk-container-id-1 label.sk-toggleable__label {cursor: pointer;display: block;width: 100%;margin-bottom: 0;padding: 0.3em;box-sizing: border-box;text-align: center;}#sk-container-id-1 label.sk-toggleable__label-arrow:before {content: \"▸\";float: left;margin-right: 0.25em;color: #696969;}#sk-container-id-1 label.sk-toggleable__label-arrow:hover:before {color: black;}#sk-container-id-1 div.sk-estimator:hover label.sk-toggleable__label-arrow:before {color: black;}#sk-container-id-1 div.sk-toggleable__content {max-height: 0;max-width: 0;overflow: hidden;text-align: left;background-color: #f0f8ff;}#sk-container-id-1 div.sk-toggleable__content pre {margin: 0.2em;color: black;border-radius: 0.25em;background-color: #f0f8ff;}#sk-container-id-1 input.sk-toggleable__control:checked~div.sk-toggleable__content {max-height: 200px;max-width: 100%;overflow: auto;}#sk-container-id-1 input.sk-toggleable__control:checked~label.sk-toggleable__label-arrow:before {content: \"▾\";}#sk-container-id-1 div.sk-estimator input.sk-toggleable__control:checked~label.sk-toggleable__label {background-color: #d4ebff;}#sk-container-id-1 div.sk-label input.sk-toggleable__control:checked~label.sk-toggleable__label {background-color: #d4ebff;}#sk-container-id-1 input.sk-hidden--visually {border: 0;clip: rect(1px 1px 1px 1px);clip: rect(1px, 1px, 1px, 1px);height: 1px;margin: -1px;overflow: hidden;padding: 0;position: absolute;width: 1px;}#sk-container-id-1 div.sk-estimator {font-family: monospace;background-color: #f0f8ff;border: 1px dotted black;border-radius: 0.25em;box-sizing: border-box;margin-bottom: 0.5em;}#sk-container-id-1 div.sk-estimator:hover {background-color: #d4ebff;}#sk-container-id-1 div.sk-parallel-item::after {content: \"\";width: 100%;border-bottom: 1px solid gray;flex-grow: 1;}#sk-container-id-1 div.sk-label:hover label.sk-toggleable__label {background-color: #d4ebff;}#sk-container-id-1 div.sk-serial::before {content: \"\";position: absolute;border-left: 1px solid gray;box-sizing: border-box;top: 0;bottom: 0;left: 50%;z-index: 0;}#sk-container-id-1 div.sk-serial {display: flex;flex-direction: column;align-items: center;background-color: white;padding-right: 0.2em;padding-left: 0.2em;position: relative;}#sk-container-id-1 div.sk-item {position: relative;z-index: 1;}#sk-container-id-1 div.sk-parallel {display: flex;align-items: stretch;justify-content: center;background-color: white;position: relative;}#sk-container-id-1 div.sk-item::before, #sk-container-id-1 div.sk-parallel-item::before {content: \"\";position: absolute;border-left: 1px solid gray;box-sizing: border-box;top: 0;bottom: 0;left: 50%;z-index: -1;}#sk-container-id-1 div.sk-parallel-item {display: flex;flex-direction: column;z-index: 1;position: relative;background-color: white;}#sk-container-id-1 div.sk-parallel-item:first-child::after {align-self: flex-end;width: 50%;}#sk-container-id-1 div.sk-parallel-item:last-child::after {align-self: flex-start;width: 50%;}#sk-container-id-1 div.sk-parallel-item:only-child::after {width: 0;}#sk-container-id-1 div.sk-dashed-wrapped {border: 1px dashed gray;margin: 0 0.4em 0.5em 0.4em;box-sizing: border-box;padding-bottom: 0.4em;background-color: white;}#sk-container-id-1 div.sk-label label {font-family: monospace;font-weight: bold;display: inline-block;line-height: 1.2em;}#sk-container-id-1 div.sk-label-container {text-align: center;}#sk-container-id-1 div.sk-container {/* jupyter's `normalize.less` sets `[hidden] { display: none; }` but bootstrap.min.css set `[hidden] { display: none !important; }` so we also need the `!important` here to be able to override the default hidden behavior on the sphinx rendered scikit-learn.org. See: https://github.com/scikit-learn/scikit-learn/issues/21755 */display: inline-block !important;position: relative;}#sk-container-id-1 div.sk-text-repr-fallback {display: none;}</style><div id=\"sk-container-id-1\" class=\"sk-top-container\"><div class=\"sk-text-repr-fallback\"><pre>DecisionTreeClassifier()</pre><b>In a Jupyter environment, please rerun this cell to show the HTML representation or trust the notebook. <br />On GitHub, the HTML representation is unable to render, please try loading this page with nbviewer.org.</b></div><div class=\"sk-container\" hidden><div class=\"sk-item\"><div class=\"sk-estimator sk-toggleable\"><input class=\"sk-toggleable__control sk-hidden--visually\" id=\"sk-estimator-id-1\" type=\"checkbox\" checked><label for=\"sk-estimator-id-1\" class=\"sk-toggleable__label sk-toggleable__label-arrow\">DecisionTreeClassifier</label><div class=\"sk-toggleable__content\"><pre>DecisionTreeClassifier()</pre></div></div></div></div></div>"
            ],
            "text/plain": [
              "DecisionTreeClassifier()"
            ]
          },
          "execution_count": 31,
          "metadata": {},
          "output_type": "execute_result"
        }
      ],
      "source": [
        "# Definição e treinamento do classificador 'DecisionTreeClassifier'\n",
        "\n",
        "clf=DecisionTreeClassifier()\n",
        "clf.fit(X_train, y_train)"
      ]
    },
    {
      "cell_type": "code",
      "execution_count": 32,
      "metadata": {
        "id": "KQ9eLbkCPD8L"
      },
      "outputs": [],
      "source": [
        "# Predição\n",
        "\n",
        "pred=clf.predict(X_val)"
      ]
    },
    {
      "cell_type": "code",
      "execution_count": 33,
      "metadata": {
        "colab": {
          "base_uri": "https://localhost:8080/"
        },
        "id": "LategHRXQG2T",
        "outputId": "716a1f30-995b-48a0-d5e3-ad51ab847abd"
      },
      "outputs": [
        {
          "data": {
            "text/plain": [
              "0.6283753049662987"
            ]
          },
          "execution_count": 33,
          "metadata": {},
          "output_type": "execute_result"
        }
      ],
      "source": [
        "# Acurácia\n",
        "\n",
        "accuracy_score(pred, y_val)"
      ]
    },
    {
      "cell_type": "code",
      "execution_count": 36,
      "metadata": {
        "colab": {
          "base_uri": "https://localhost:8080/"
        },
        "id": "d26gEQsmQMkx",
        "outputId": "7b54b25f-d65e-4798-8acc-f952ab32e8b8"
      },
      "outputs": [
        {
          "data": {
            "text/plain": [
              "array([[14063,   127,  1140],\n",
              "       [  304,    73,   145],\n",
              "       [ 7194,    77,  1060]], dtype=int64)"
            ]
          },
          "execution_count": 36,
          "metadata": {},
          "output_type": "execute_result"
        }
      ],
      "source": [
        "# Matriz de confusão\n",
        "\n",
        "confusion_matrix(y_val, pred)"
      ]
    },
    {
      "cell_type": "code",
      "execution_count": 37,
      "metadata": {
        "colab": {
          "base_uri": "https://localhost:8080/"
        },
        "id": "K3oLPRXwScDj",
        "outputId": "1e2a91e6-152e-4e7d-e6e7-f77f0ec13ede"
      },
      "outputs": [
        {
          "data": {
            "text/html": [
              "<style>#sk-container-id-2 {color: black;}#sk-container-id-2 pre{padding: 0;}#sk-container-id-2 div.sk-toggleable {background-color: white;}#sk-container-id-2 label.sk-toggleable__label {cursor: pointer;display: block;width: 100%;margin-bottom: 0;padding: 0.3em;box-sizing: border-box;text-align: center;}#sk-container-id-2 label.sk-toggleable__label-arrow:before {content: \"▸\";float: left;margin-right: 0.25em;color: #696969;}#sk-container-id-2 label.sk-toggleable__label-arrow:hover:before {color: black;}#sk-container-id-2 div.sk-estimator:hover label.sk-toggleable__label-arrow:before {color: black;}#sk-container-id-2 div.sk-toggleable__content {max-height: 0;max-width: 0;overflow: hidden;text-align: left;background-color: #f0f8ff;}#sk-container-id-2 div.sk-toggleable__content pre {margin: 0.2em;color: black;border-radius: 0.25em;background-color: #f0f8ff;}#sk-container-id-2 input.sk-toggleable__control:checked~div.sk-toggleable__content {max-height: 200px;max-width: 100%;overflow: auto;}#sk-container-id-2 input.sk-toggleable__control:checked~label.sk-toggleable__label-arrow:before {content: \"▾\";}#sk-container-id-2 div.sk-estimator input.sk-toggleable__control:checked~label.sk-toggleable__label {background-color: #d4ebff;}#sk-container-id-2 div.sk-label input.sk-toggleable__control:checked~label.sk-toggleable__label {background-color: #d4ebff;}#sk-container-id-2 input.sk-hidden--visually {border: 0;clip: rect(1px 1px 1px 1px);clip: rect(1px, 1px, 1px, 1px);height: 1px;margin: -1px;overflow: hidden;padding: 0;position: absolute;width: 1px;}#sk-container-id-2 div.sk-estimator {font-family: monospace;background-color: #f0f8ff;border: 1px dotted black;border-radius: 0.25em;box-sizing: border-box;margin-bottom: 0.5em;}#sk-container-id-2 div.sk-estimator:hover {background-color: #d4ebff;}#sk-container-id-2 div.sk-parallel-item::after {content: \"\";width: 100%;border-bottom: 1px solid gray;flex-grow: 1;}#sk-container-id-2 div.sk-label:hover label.sk-toggleable__label {background-color: #d4ebff;}#sk-container-id-2 div.sk-serial::before {content: \"\";position: absolute;border-left: 1px solid gray;box-sizing: border-box;top: 0;bottom: 0;left: 50%;z-index: 0;}#sk-container-id-2 div.sk-serial {display: flex;flex-direction: column;align-items: center;background-color: white;padding-right: 0.2em;padding-left: 0.2em;position: relative;}#sk-container-id-2 div.sk-item {position: relative;z-index: 1;}#sk-container-id-2 div.sk-parallel {display: flex;align-items: stretch;justify-content: center;background-color: white;position: relative;}#sk-container-id-2 div.sk-item::before, #sk-container-id-2 div.sk-parallel-item::before {content: \"\";position: absolute;border-left: 1px solid gray;box-sizing: border-box;top: 0;bottom: 0;left: 50%;z-index: -1;}#sk-container-id-2 div.sk-parallel-item {display: flex;flex-direction: column;z-index: 1;position: relative;background-color: white;}#sk-container-id-2 div.sk-parallel-item:first-child::after {align-self: flex-end;width: 50%;}#sk-container-id-2 div.sk-parallel-item:last-child::after {align-self: flex-start;width: 50%;}#sk-container-id-2 div.sk-parallel-item:only-child::after {width: 0;}#sk-container-id-2 div.sk-dashed-wrapped {border: 1px dashed gray;margin: 0 0.4em 0.5em 0.4em;box-sizing: border-box;padding-bottom: 0.4em;background-color: white;}#sk-container-id-2 div.sk-label label {font-family: monospace;font-weight: bold;display: inline-block;line-height: 1.2em;}#sk-container-id-2 div.sk-label-container {text-align: center;}#sk-container-id-2 div.sk-container {/* jupyter's `normalize.less` sets `[hidden] { display: none; }` but bootstrap.min.css set `[hidden] { display: none !important; }` so we also need the `!important` here to be able to override the default hidden behavior on the sphinx rendered scikit-learn.org. See: https://github.com/scikit-learn/scikit-learn/issues/21755 */display: inline-block !important;position: relative;}#sk-container-id-2 div.sk-text-repr-fallback {display: none;}</style><div id=\"sk-container-id-2\" class=\"sk-top-container\"><div class=\"sk-text-repr-fallback\"><pre>RandomForestClassifier()</pre><b>In a Jupyter environment, please rerun this cell to show the HTML representation or trust the notebook. <br />On GitHub, the HTML representation is unable to render, please try loading this page with nbviewer.org.</b></div><div class=\"sk-container\" hidden><div class=\"sk-item\"><div class=\"sk-estimator sk-toggleable\"><input class=\"sk-toggleable__control sk-hidden--visually\" id=\"sk-estimator-id-2\" type=\"checkbox\" checked><label for=\"sk-estimator-id-2\" class=\"sk-toggleable__label sk-toggleable__label-arrow\">RandomForestClassifier</label><div class=\"sk-toggleable__content\"><pre>RandomForestClassifier()</pre></div></div></div></div></div>"
            ],
            "text/plain": [
              "RandomForestClassifier()"
            ]
          },
          "execution_count": 37,
          "metadata": {},
          "output_type": "execute_result"
        }
      ],
      "source": [
        "# Definição e treinamento do classificador 'RandomForestClassifier'\n",
        "\n",
        "clf2=RandomForestClassifier()\n",
        "clf2.fit(X_train, y_train)"
      ]
    },
    {
      "cell_type": "code",
      "execution_count": 38,
      "metadata": {
        "id": "dR7e_a-WSrGk"
      },
      "outputs": [],
      "source": [
        "# Predição\n",
        "\n",
        "predict2=clf2.predict(X_val)"
      ]
    },
    {
      "cell_type": "code",
      "execution_count": 39,
      "metadata": {
        "colab": {
          "base_uri": "https://localhost:8080/"
        },
        "id": "hEu-oofaS0jl",
        "outputId": "e2de84d7-675a-465c-dd20-b4d58b08ee00"
      },
      "outputs": [
        {
          "data": {
            "text/plain": [
              "0.625067195964107"
            ]
          },
          "execution_count": 39,
          "metadata": {},
          "output_type": "execute_result"
        }
      ],
      "source": [
        "# Acurácia\n",
        "\n",
        "accuracy_score(predict2, y_val)"
      ]
    },
    {
      "cell_type": "code",
      "execution_count": 40,
      "metadata": {
        "colab": {
          "base_uri": "https://localhost:8080/"
        },
        "id": "A6SeDfqmYbAx",
        "outputId": "c9566f75-2b2c-4da5-bd70-422cb0d0edae"
      },
      "outputs": [
        {
          "data": {
            "text/plain": [
              "array([[13775,   139,  1416],\n",
              "       [  264,    76,   182],\n",
              "       [ 6978,    88,  1265]], dtype=int64)"
            ]
          },
          "execution_count": 40,
          "metadata": {},
          "output_type": "execute_result"
        }
      ],
      "source": [
        "# Matriz de confusão\n",
        "\n",
        "confusion_matrix(y_val, predict2)"
      ]
    },
    {
      "cell_type": "code",
      "execution_count": 41,
      "metadata": {
        "colab": {
          "base_uri": "https://localhost:8080/"
        },
        "id": "7UzKtTPbW2XV",
        "outputId": "895c7840-93d6-412e-9241-b5f39148d310"
      },
      "outputs": [
        {
          "data": {
            "text/html": [
              "<style>#sk-container-id-3 {color: black;}#sk-container-id-3 pre{padding: 0;}#sk-container-id-3 div.sk-toggleable {background-color: white;}#sk-container-id-3 label.sk-toggleable__label {cursor: pointer;display: block;width: 100%;margin-bottom: 0;padding: 0.3em;box-sizing: border-box;text-align: center;}#sk-container-id-3 label.sk-toggleable__label-arrow:before {content: \"▸\";float: left;margin-right: 0.25em;color: #696969;}#sk-container-id-3 label.sk-toggleable__label-arrow:hover:before {color: black;}#sk-container-id-3 div.sk-estimator:hover label.sk-toggleable__label-arrow:before {color: black;}#sk-container-id-3 div.sk-toggleable__content {max-height: 0;max-width: 0;overflow: hidden;text-align: left;background-color: #f0f8ff;}#sk-container-id-3 div.sk-toggleable__content pre {margin: 0.2em;color: black;border-radius: 0.25em;background-color: #f0f8ff;}#sk-container-id-3 input.sk-toggleable__control:checked~div.sk-toggleable__content {max-height: 200px;max-width: 100%;overflow: auto;}#sk-container-id-3 input.sk-toggleable__control:checked~label.sk-toggleable__label-arrow:before {content: \"▾\";}#sk-container-id-3 div.sk-estimator input.sk-toggleable__control:checked~label.sk-toggleable__label {background-color: #d4ebff;}#sk-container-id-3 div.sk-label input.sk-toggleable__control:checked~label.sk-toggleable__label {background-color: #d4ebff;}#sk-container-id-3 input.sk-hidden--visually {border: 0;clip: rect(1px 1px 1px 1px);clip: rect(1px, 1px, 1px, 1px);height: 1px;margin: -1px;overflow: hidden;padding: 0;position: absolute;width: 1px;}#sk-container-id-3 div.sk-estimator {font-family: monospace;background-color: #f0f8ff;border: 1px dotted black;border-radius: 0.25em;box-sizing: border-box;margin-bottom: 0.5em;}#sk-container-id-3 div.sk-estimator:hover {background-color: #d4ebff;}#sk-container-id-3 div.sk-parallel-item::after {content: \"\";width: 100%;border-bottom: 1px solid gray;flex-grow: 1;}#sk-container-id-3 div.sk-label:hover label.sk-toggleable__label {background-color: #d4ebff;}#sk-container-id-3 div.sk-serial::before {content: \"\";position: absolute;border-left: 1px solid gray;box-sizing: border-box;top: 0;bottom: 0;left: 50%;z-index: 0;}#sk-container-id-3 div.sk-serial {display: flex;flex-direction: column;align-items: center;background-color: white;padding-right: 0.2em;padding-left: 0.2em;position: relative;}#sk-container-id-3 div.sk-item {position: relative;z-index: 1;}#sk-container-id-3 div.sk-parallel {display: flex;align-items: stretch;justify-content: center;background-color: white;position: relative;}#sk-container-id-3 div.sk-item::before, #sk-container-id-3 div.sk-parallel-item::before {content: \"\";position: absolute;border-left: 1px solid gray;box-sizing: border-box;top: 0;bottom: 0;left: 50%;z-index: -1;}#sk-container-id-3 div.sk-parallel-item {display: flex;flex-direction: column;z-index: 1;position: relative;background-color: white;}#sk-container-id-3 div.sk-parallel-item:first-child::after {align-self: flex-end;width: 50%;}#sk-container-id-3 div.sk-parallel-item:last-child::after {align-self: flex-start;width: 50%;}#sk-container-id-3 div.sk-parallel-item:only-child::after {width: 0;}#sk-container-id-3 div.sk-dashed-wrapped {border: 1px dashed gray;margin: 0 0.4em 0.5em 0.4em;box-sizing: border-box;padding-bottom: 0.4em;background-color: white;}#sk-container-id-3 div.sk-label label {font-family: monospace;font-weight: bold;display: inline-block;line-height: 1.2em;}#sk-container-id-3 div.sk-label-container {text-align: center;}#sk-container-id-3 div.sk-container {/* jupyter's `normalize.less` sets `[hidden] { display: none; }` but bootstrap.min.css set `[hidden] { display: none !important; }` so we also need the `!important` here to be able to override the default hidden behavior on the sphinx rendered scikit-learn.org. See: https://github.com/scikit-learn/scikit-learn/issues/21755 */display: inline-block !important;position: relative;}#sk-container-id-3 div.sk-text-repr-fallback {display: none;}</style><div id=\"sk-container-id-3\" class=\"sk-top-container\"><div class=\"sk-text-repr-fallback\"><pre>KNeighborsClassifier()</pre><b>In a Jupyter environment, please rerun this cell to show the HTML representation or trust the notebook. <br />On GitHub, the HTML representation is unable to render, please try loading this page with nbviewer.org.</b></div><div class=\"sk-container\" hidden><div class=\"sk-item\"><div class=\"sk-estimator sk-toggleable\"><input class=\"sk-toggleable__control sk-hidden--visually\" id=\"sk-estimator-id-3\" type=\"checkbox\" checked><label for=\"sk-estimator-id-3\" class=\"sk-toggleable__label sk-toggleable__label-arrow\">KNeighborsClassifier</label><div class=\"sk-toggleable__content\"><pre>KNeighborsClassifier()</pre></div></div></div></div></div>"
            ],
            "text/plain": [
              "KNeighborsClassifier()"
            ]
          },
          "execution_count": 41,
          "metadata": {},
          "output_type": "execute_result"
        }
      ],
      "source": [
        "# Definição e treinamento do classificador 'KNeighborsClassifier'\n",
        "\n",
        "clf3=KNeighborsClassifier()\n",
        "clf3.fit(X_train, y_train)"
      ]
    },
    {
      "cell_type": "code",
      "execution_count": 42,
      "metadata": {
        "id": "AENClsTCX_9-"
      },
      "outputs": [],
      "source": [
        "# Predição\n",
        "\n",
        "predict3=clf3.predict(X_val)"
      ]
    },
    {
      "cell_type": "code",
      "execution_count": 43,
      "metadata": {
        "colab": {
          "base_uri": "https://localhost:8080/"
        },
        "id": "CmkYAmUbYKKs",
        "outputId": "a47db24a-c408-4de9-f781-c8f838eb8d09"
      },
      "outputs": [
        {
          "data": {
            "text/plain": [
              "0.5841706984245131"
            ]
          },
          "execution_count": 43,
          "metadata": {},
          "output_type": "execute_result"
        }
      ],
      "source": [
        "# Acurácia\n",
        "\n",
        "accuracy_score(predict3, y_val)"
      ]
    },
    {
      "cell_type": "code",
      "execution_count": 44,
      "metadata": {
        "colab": {
          "base_uri": "https://localhost:8080/"
        },
        "id": "VIItW_-OYimc",
        "outputId": "03db8505-643b-4a84-878f-6323a912f178"
      },
      "outputs": [
        {
          "data": {
            "text/plain": [
              "array([[11956,   111,  3263],\n",
              "       [  307,    70,   145],\n",
              "       [ 6151,    79,  2101]], dtype=int64)"
            ]
          },
          "execution_count": 44,
          "metadata": {},
          "output_type": "execute_result"
        }
      ],
      "source": [
        "# Matriz de confusão\n",
        "\n",
        "confusion_matrix(y_val, predict3)"
      ]
    },
    {
      "cell_type": "markdown",
      "metadata": {
        "id": "uhb3SuBlLdni"
      },
      "source": [
        "# Conclusão\n",
        "\n",
        "#### A acurácia obtida foi de 60% em média e as matrizes de confusão mostram houveram dados classificados incorretamente. Apesar disso, as bicicletas clássicas foram as mais fáceis de classificar. Possivelmente, as variáveis 'duração' e 'membro_casual' não possuem alta correlação com o tipo de bicicleta. Finalmente, comparando os três modelos de machine learning utilizados, se observa que o 'DecisionTreeClassfier' e o 'RandomForestClassfier' alcaçaram uma acurácia melhor do que o 'KNeighborsClassifier'. "
      ]
    }
  ],
  "metadata": {
    "colab": {
      "collapsed_sections": [
        "H3ad4Hdl3jAb"
      ],
      "provenance": []
    },
    "kernelspec": {
      "display_name": "Python 3",
      "name": "python3"
    },
    "language_info": {
      "codemirror_mode": {
        "name": "ipython",
        "version": 3
      },
      "file_extension": ".py",
      "mimetype": "text/x-python",
      "name": "python",
      "nbconvert_exporter": "python",
      "pygments_lexer": "ipython3",
      "version": "3.11.5"
    }
  },
  "nbformat": 4,
  "nbformat_minor": 0
}
