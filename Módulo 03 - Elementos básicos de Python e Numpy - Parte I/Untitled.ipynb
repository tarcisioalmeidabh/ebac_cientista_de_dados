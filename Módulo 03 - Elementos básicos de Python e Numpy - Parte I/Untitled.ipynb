{
 "cells": [
  {
   "cell_type": "code",
   "execution_count": 2,
   "id": "1539e048",
   "metadata": {},
   "outputs": [
    {
     "ename": "TypeError",
     "evalue": "'float' object is not subscriptable",
     "output_type": "error",
     "traceback": [
      "\u001b[1;31m---------------------------------------------------------------------------\u001b[0m",
      "\u001b[1;31mTypeError\u001b[0m                                 Traceback (most recent call last)",
      "Cell \u001b[1;32mIn[2], line 7\u001b[0m\n\u001b[0;32m      5\u001b[0m \u001b[38;5;66;03m# seu código\u001b[39;00m\n\u001b[0;32m      6\u001b[0m \u001b[38;5;28;01mfor\u001b[39;00m lista \u001b[38;5;129;01min\u001b[39;00m altura_peso:\n\u001b[1;32m----> 7\u001b[0m     altura_peso\u001b[38;5;241m.\u001b[39mappend(\u001b[43maltura_peso\u001b[49m\u001b[43m[\u001b[49m\u001b[43mi\u001b[49m\u001b[43m]\u001b[49m\u001b[43m[\u001b[49m\u001b[38;5;241;43m1\u001b[39;49m\u001b[43m]\u001b[49m \u001b[38;5;241m/\u001b[39m (altura_peso[i][\u001b[38;5;241m0\u001b[39m] \u001b[38;5;241m*\u001b[39m\u001b[38;5;241m*\u001b[39m \u001b[38;5;241m2\u001b[39m))\n\u001b[0;32m      8\u001b[0m     i \u001b[38;5;241m+\u001b[39m\u001b[38;5;241m=\u001b[39m \u001b[38;5;241m1\u001b[39m\n\u001b[0;32m      9\u001b[0m altura_peso\n",
      "\u001b[1;31mTypeError\u001b[0m: 'float' object is not subscriptable"
     ]
    }
   ],
   "source": [
    "altura_peso = [[1.80, 90], [1.65, 75], [1.91, 70]]\n",
    "\n",
    "i = 0\n",
    "imc = altura_peso[i][1] / (altura_peso[i][0] ** 2)\n",
    "# seu código\n",
    "for lista in altura_peso:\n",
    "    altura_peso.append(altura_peso[i][1] / (altura_peso[i][0] ** 2))\n",
    "    i += 1\n",
    "altura_peso"
   ]
  },
  {
   "cell_type": "code",
   "execution_count": 12,
   "id": "1b3e2be4",
   "metadata": {},
   "outputs": [
    {
     "name": "stdout",
     "output_type": "stream",
     "text": [
      "47 é um número primo.\n"
     ]
    }
   ],
   "source": [
    "N = 47\n",
    "def num_primo(N):\n",
    "    if N <= 1:\n",
    "        return False\n",
    "    for i in range(2, N):\n",
    "        if N % i == 0:\n",
    "            return False\n",
    "    return True\n",
    "\n",
    "if num_primo(N):\n",
    "    print(f\"{N} é um número primo.\")\n",
    "else:\n",
    "    print(f\"{N} não é um número primo.\")"
   ]
  },
  {
   "cell_type": "code",
   "execution_count": 5,
   "id": "85dfd800",
   "metadata": {},
   "outputs": [
    {
     "name": "stdout",
     "output_type": "stream",
     "text": [
      "1 não é primo!\n",
      "2 é primo!\n",
      "3 é primo!\n",
      "4 é primo!\n",
      "5 é primo!\n",
      "6 é primo!\n",
      "7 é primo!\n",
      "8 é primo!\n",
      "9 é primo!\n",
      "10 é primo!\n",
      "11 é primo!\n",
      "12 é primo!\n",
      "13 é primo!\n",
      "14 é primo!\n",
      "15 é primo!\n",
      "16 é primo!\n",
      "17 é primo!\n",
      "18 é primo!\n",
      "19 é primo!\n",
      "20 é primo!\n",
      "21 é primo!\n",
      "22 é primo!\n",
      "23 é primo!\n",
      "24 é primo!\n",
      "25 é primo!\n",
      "26 é primo!\n",
      "27 é primo!\n",
      "28 é primo!\n",
      "29 é primo!\n",
      "30 é primo!\n",
      "31 é primo!\n",
      "32 é primo!\n",
      "33 é primo!\n",
      "34 é primo!\n",
      "35 é primo!\n",
      "36 é primo!\n",
      "37 é primo!\n",
      "38 é primo!\n",
      "39 é primo!\n",
      "40 é primo!\n",
      "41 é primo!\n",
      "42 é primo!\n",
      "43 é primo!\n",
      "44 é primo!\n",
      "45 é primo!\n"
     ]
    }
   ],
   "source": [
    "N = 47\n",
    "\n",
    "# seu código abaixo\n",
    "for num in range(2, N):\n",
    "    if N <= 1 or N % num == 0:\n",
    "        print(\"%d não é primo!\" %num)\n",
    "    else:\n",
    "        print(\"%d é primo!\" %num)"
   ]
  },
  {
   "cell_type": "code",
   "execution_count": 9,
   "id": "12dcbca5",
   "metadata": {},
   "outputs": [
    {
     "name": "stdout",
     "output_type": "stream",
     "text": [
      "47 é um número primo.\n",
      "47 é um número primo.\n",
      "47 é um número primo.\n",
      "47 é um número primo.\n",
      "47 é um número primo.\n",
      "47 é um número primo.\n",
      "47 é um número primo.\n",
      "47 é um número primo.\n",
      "47 é um número primo.\n",
      "47 é um número primo.\n",
      "47 é um número primo.\n",
      "47 é um número primo.\n",
      "47 é um número primo.\n",
      "47 é um número primo.\n",
      "47 é um número primo.\n",
      "47 é um número primo.\n",
      "47 é um número primo.\n",
      "47 é um número primo.\n",
      "47 é um número primo.\n",
      "47 é um número primo.\n",
      "47 é um número primo.\n",
      "47 é um número primo.\n",
      "47 é um número primo.\n",
      "47 é um número primo.\n",
      "47 é um número primo.\n",
      "47 é um número primo.\n",
      "47 é um número primo.\n",
      "47 é um número primo.\n",
      "47 é um número primo.\n",
      "47 é um número primo.\n",
      "47 é um número primo.\n",
      "47 é um número primo.\n",
      "47 é um número primo.\n",
      "47 é um número primo.\n",
      "47 é um número primo.\n",
      "47 é um número primo.\n",
      "47 é um número primo.\n",
      "47 é um número primo.\n",
      "47 é um número primo.\n",
      "47 é um número primo.\n",
      "47 é um número primo.\n",
      "47 é um número primo.\n",
      "47 é um número primo.\n",
      "47 é um número primo.\n",
      "47 é um número primo.\n"
     ]
    }
   ],
   "source": [
    "N = 47\n",
    "if N <= 1:\n",
    "    print(f\"{N} não é um número primo.\")\n",
    "for i in range(2, N):\n",
    "    if N % i == 0:\n",
    "        print(f\"{N} não é um número primo.\")\n",
    "    print(f\"{N} é um número primo.\")"
   ]
  },
  {
   "cell_type": "code",
   "execution_count": 13,
   "id": "40ac94e4",
   "metadata": {},
   "outputs": [
    {
     "name": "stdout",
     "output_type": "stream",
     "text": [
      "47 é um número primo.\n"
     ]
    }
   ],
   "source": [
    "def num_primo(N):\n",
    "    if N <= 1:\n",
    "        return False\n",
    "    for i in range(2, N):\n",
    "        if N % i == 0:\n",
    "            return False\n",
    "    return True\n",
    "\n",
    "if num_primo(N):\n",
    "    print(f\"{N} é um número primo.\")\n",
    "else:\n",
    "    print(f\"{N} não é um número primo.\")"
   ]
  },
  {
   "cell_type": "code",
   "execution_count": 1,
   "id": "e53ac3bf",
   "metadata": {},
   "outputs": [
    {
     "ename": "NameError",
     "evalue": "name 'N' is not defined",
     "output_type": "error",
     "traceback": [
      "\u001b[1;31m---------------------------------------------------------------------------\u001b[0m",
      "\u001b[1;31mNameError\u001b[0m                                 Traceback (most recent call last)",
      "Cell \u001b[1;32mIn[1], line 9\u001b[0m\n\u001b[0;32m      6\u001b[0m             \u001b[38;5;28;01mreturn\u001b[39;00m \u001b[38;5;28;01mFalse\u001b[39;00m\n\u001b[0;32m      7\u001b[0m     \u001b[38;5;28;01mreturn\u001b[39;00m \u001b[38;5;28;01mTrue\u001b[39;00m\n\u001b[1;32m----> 9\u001b[0m \u001b[38;5;28;01mif\u001b[39;00m num_primo(\u001b[43mN\u001b[49m):\n\u001b[0;32m     10\u001b[0m     \u001b[38;5;28mprint\u001b[39m(\u001b[38;5;124mf\u001b[39m\u001b[38;5;124m\"\u001b[39m\u001b[38;5;132;01m{\u001b[39;00mN\u001b[38;5;132;01m}\u001b[39;00m\u001b[38;5;124m é um número primo.\u001b[39m\u001b[38;5;124m\"\u001b[39m)\n\u001b[0;32m     11\u001b[0m \u001b[38;5;28;01melse\u001b[39;00m:\n",
      "\u001b[1;31mNameError\u001b[0m: name 'N' is not defined"
     ]
    }
   ],
   "source": [
    "def num_primo(N):\n",
    "    if N <= 1:\n",
    "        return False\n",
    "    for i in range(2, N):\n",
    "        if N % i == 0:\n",
    "            return False\n",
    "    return True\n",
    "\n",
    "if num_primo(N):\n",
    "    print(f\"{N} é um número primo.\")\n",
    "else:\n",
    "    print(f\"{N} não é um número primo.\")"
   ]
  },
  {
   "cell_type": "code",
   "execution_count": 2,
   "id": "a04799ba",
   "metadata": {},
   "outputs": [
    {
     "name": "stdout",
     "output_type": "stream",
     "text": [
      "Digite um número inteiro positivo maior que 1: 1\n",
      "1 não é um número primo.\n"
     ]
    }
   ],
   "source": [
    "def is_prime(n):\n",
    "    \"\"\"Função que verifica se um número é primo.\"\"\"\n",
    "    if n <= 1:\n",
    "        return False\n",
    "    for i in range(2, n):\n",
    "        if n % i == 0:\n",
    "            return False\n",
    "    return True\n",
    "\n",
    "# Solicita o input do número a ser verificado\n",
    "n = int(input(\"Digite um número inteiro positivo maior que 1: \"))\n",
    "\n",
    "# Chama a função is_prime para verificar se o número é primo\n",
    "if is_prime(n):\n",
    "    print(f\"{n} é um número primo.\")\n",
    "else:\n",
    "    print(f\"{n} não é um número primo.\")\n",
    "    "
   ]
  },
  {
   "cell_type": "code",
   "execution_count": 3,
   "id": "03cad9c1",
   "metadata": {},
   "outputs": [
    {
     "name": "stdout",
     "output_type": "stream",
     "text": [
      "Digite um número inteiro positivo maior que 1: 25\n",
      "25 não é um número primo.\n"
     ]
    }
   ],
   "source": [
    "def is_prime(n):\n",
    "    \"\"\"Função que verifica se um número é primo.\"\"\"\n",
    "    if n <= 1:\n",
    "        return False\n",
    "    for i in range(2, n):\n",
    "        if n % i == 0:\n",
    "            return False\n",
    "    return True\n",
    "\n",
    "# Solicita o input do número a ser verificado\n",
    "n = int(input(\"Digite um número inteiro positivo maior que 1: \"))\n",
    "\n",
    "# Chama a função is_prime para verificar se o número é primo\n",
    "if is_prime(n):\n",
    "    print(f\"{n} é um número primo.\")\n",
    "else:\n",
    "    print(f\"{n} não é um número primo.\")"
   ]
  },
  {
   "cell_type": "code",
   "execution_count": 4,
   "id": "c31b80b7",
   "metadata": {},
   "outputs": [
    {
     "name": "stdout",
     "output_type": "stream",
     "text": [
      "Digite um número inteiro positivo maior que 1: 32\n",
      "32 não é um número primo.\n"
     ]
    }
   ],
   "source": [
    "def is_prime(n):\n",
    "    \"\"\"Função que verifica se um número é primo.\"\"\"\n",
    "    if n <= 1:\n",
    "        return False\n",
    "    for i in range(2, n):\n",
    "        if n % i == 0:\n",
    "            return False\n",
    "    return True\n",
    "\n",
    "# Solicita o input do número a ser verificado\n",
    "n = int(input(\"Digite um número inteiro positivo maior que 1: \"))\n",
    "\n",
    "# Chama a função is_prime para verificar se o número é primo\n",
    "if is_prime(n):\n",
    "    print(f\"{n} é um número primo.\")\n",
    "else:\n",
    "    print(f\"{n} não é um número primo.\")"
   ]
  },
  {
   "cell_type": "code",
   "execution_count": 5,
   "id": "6a1a1058",
   "metadata": {},
   "outputs": [
    {
     "name": "stdout",
     "output_type": "stream",
     "text": [
      "Digite um número inteiro positivo maior que 1: 7\n",
      "7 é um número primo.\n"
     ]
    }
   ],
   "source": [
    "def is_prime(n):\n",
    "    \"\"\"Função que verifica se um número é primo.\"\"\"\n",
    "    if n <= 1:\n",
    "        return False\n",
    "    for i in range(2, n):\n",
    "        if n % i == 0:\n",
    "            return False\n",
    "    return True\n",
    "\n",
    "# Solicita o input do número a ser verificado\n",
    "n = int(input(\"Digite um número inteiro positivo maior que 1: \"))\n",
    "\n",
    "# Chama a função is_prime para verificar se o número é primo\n",
    "if is_prime(n):\n",
    "    print(f\"{n} é um número primo.\")\n",
    "else:\n",
    "    print(f\"{n} não é um número primo.\")"
   ]
  },
  {
   "cell_type": "code",
   "execution_count": 11,
   "id": "adb0bba4",
   "metadata": {},
   "outputs": [
    {
     "name": "stdout",
     "output_type": "stream",
     "text": [
      "47 é um número primo.\n"
     ]
    }
   ],
   "source": [
    "N = 47\n",
    "def num_primo(N):\n",
    "    if N <= 1:\n",
    "        return False\n",
    "    for i in range(2, N):\n",
    "        if N % i == 0:\n",
    "            return False\n",
    "    return True\n",
    "\n",
    "if num_primo(N):\n",
    "    print(f\"{N} é um número primo.\")\n",
    "else:\n",
    "    print(f\"{N} não é um número primo.\")"
   ]
  },
  {
   "cell_type": "code",
   "execution_count": 13,
   "id": "eb6c19a8",
   "metadata": {},
   "outputs": [
    {
     "name": "stdout",
     "output_type": "stream",
     "text": [
      "2 não é primo!\n",
      "3 não é primo!\n",
      "4 não é primo!\n",
      "5 não é primo!\n",
      "6 não é primo!\n",
      "7 não é primo!\n",
      "8 não é primo!\n",
      "9 não é primo!\n",
      "10 não é primo!\n",
      "11 não é primo!\n",
      "12 não é primo!\n",
      "13 não é primo!\n",
      "14 não é primo!\n",
      "15 não é primo!\n",
      "16 não é primo!\n",
      "17 não é primo!\n",
      "18 não é primo!\n",
      "19 não é primo!\n",
      "20 não é primo!\n",
      "21 não é primo!\n",
      "22 não é primo!\n",
      "23 não é primo!\n",
      "24 não é primo!\n",
      "25 não é primo!\n",
      "26 não é primo!\n",
      "27 não é primo!\n",
      "28 não é primo!\n",
      "29 não é primo!\n",
      "30 não é primo!\n",
      "31 não é primo!\n",
      "32 não é primo!\n",
      "33 não é primo!\n",
      "34 não é primo!\n",
      "35 não é primo!\n",
      "36 não é primo!\n",
      "37 não é primo!\n",
      "38 não é primo!\n",
      "39 não é primo!\n",
      "40 não é primo!\n",
      "41 não é primo!\n",
      "42 não é primo!\n",
      "43 não é primo!\n",
      "44 não é primo!\n",
      "45 não é primo!\n",
      "46 não é primo!\n"
     ]
    }
   ],
   "source": [
    "for num in range(2, N):\n",
    "    if N <= 1 or N % num != 0:\n",
    "        print(\"%d não é primo!\" %num)\n",
    "    else:\n",
    "        print(\"%d é primo!\" %num)"
   ]
  },
  {
   "cell_type": "code",
   "execution_count": 14,
   "id": "bcc88c67",
   "metadata": {},
   "outputs": [
    {
     "name": "stdout",
     "output_type": "stream",
     "text": [
      "47 é um número primo.\n"
     ]
    }
   ],
   "source": [
    "def num_primo(N):\n",
    "    for i in range(2, N):\n",
    "        if N <= 1 or N % i == 0:\n",
    "            return False\n",
    "    return True\n",
    "\n",
    "if num_primo(N):\n",
    "    print(f\"{N} é um número primo.\")\n",
    "else:\n",
    "    print(f\"{N} não é um número primo.\")\n"
   ]
  },
  {
   "cell_type": "code",
   "execution_count": null,
   "id": "f5bd9924",
   "metadata": {},
   "outputs": [],
   "source": []
  }
 ],
 "metadata": {
  "kernelspec": {
   "display_name": "Python 3 (ipykernel)",
   "language": "python",
   "name": "python3"
  },
  "language_info": {
   "codemirror_mode": {
    "name": "ipython",
    "version": 3
   },
   "file_extension": ".py",
   "mimetype": "text/x-python",
   "name": "python",
   "nbconvert_exporter": "python",
   "pygments_lexer": "ipython3",
   "version": "3.10.9"
  }
 },
 "nbformat": 4,
 "nbformat_minor": 5
}
