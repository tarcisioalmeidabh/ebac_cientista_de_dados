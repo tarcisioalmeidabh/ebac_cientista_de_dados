{
 "cells": [
  {
   "cell_type": "markdown",
   "metadata": {},
   "source": [
    "# Probabilidade - Tarefa"
   ]
  },
  {
   "cell_type": "code",
   "execution_count": 10,
   "metadata": {},
   "outputs": [],
   "source": [
    "import matplotlib.pyplot as plt\n",
    "import numpy as np\n",
    "import scipy.stats as stats\n",
    "import math\n",
    "import seaborn as sns\n",
    "\n",
    "import matplotlib.ticker as mtick\n",
    "from scipy.stats import norm"
   ]
  },
  {
   "cell_type": "markdown",
   "metadata": {},
   "source": [
    "1. Uma máquina embala ração para cachorro em pacotes de 15 kg, mas cada pacote produzido acaba tendo um peso aleatório, com distribuição Normal, com média 15kg, mas com desvio padrão 0,1 kg. Obtenha a probabilidade de que um pacote selecionado aleatoriamente dessa produção tenha mais que 15,2 kg."
   ]
  },
  {
   "cell_type": "code",
   "execution_count": 11,
   "metadata": {},
   "outputs": [
    {
     "name": "stdout",
     "output_type": "stream",
     "text": [
      "A probabilidade para valores entre 15,20 kg e inf kg é de 2,28%\n"
     ]
    }
   ],
   "source": [
    "mu = 15\n",
    "sigma = 0.1\n",
    "\n",
    "low = 15.2\n",
    "high = np.inf\n",
    "\n",
    "prob_area = norm.cdf(high, mu, sigma) - norm.cdf(low, mu, sigma)\n",
    "print(f'A probabilidade para valores entre {low:.2f} kg e {high:.2f} kg é de {prob_area:.2%}'.replace('.',','))"
   ]
  },
  {
   "cell_type": "markdown",
   "metadata": {},
   "source": [
    "2. Da máquina descrita acima, obtenha o percentil de ordem 95% para o peso dos pacotes. Ou seja, o valor tal que a probabilidade de um pacote ter peso menor que este seja de 95%."
   ]
  },
  {
   "cell_type": "code",
   "execution_count": 12,
   "metadata": {},
   "outputs": [
    {
     "name": "stdout",
     "output_type": "stream",
     "text": [
      "A probabilidade de um pacote ter peso menor que 15,1645 kg é de 95,00%\n"
     ]
    }
   ],
   "source": [
    "mu = 15\n",
    "sigma = 0.1\n",
    "\n",
    "perc = 0.95\n",
    "\n",
    "peso = norm.ppf(perc, mu, sigma)\n",
    "print(f'A probabilidade de um pacote ter peso menor que {peso:.4f} kg é de {perc:.2%}'.replace('.',','))"
   ]
  },
  {
   "cell_type": "markdown",
   "metadata": {},
   "source": [
    "3. Suponha duas variáveis aleatórias $Y_1$ e $Y_2$, a primeira com distribuição Normal Padrão (média=0, variância=1), a segunda com distribuição *t-studdent* com 5 graus de liberdade (também padrão). Calcule, para cada uma, a probabilidade de ser menor que cada um dos valores contidos no objeto $Y$ na célula abaixo:"
   ]
  },
  {
   "cell_type": "code",
   "execution_count": 13,
   "metadata": {},
   "outputs": [
    {
     "data": {
      "text/plain": [
       "array([9.86587645e-10, 1.42773376e-09, 2.05881881e-09, 2.95834659e-09,\n",
       "       4.23585138e-09, 6.04357383e-09, 8.59229446e-09, 1.21727145e-08,\n",
       "       1.71842058e-08, 2.41733058e-08, 3.38850399e-08, 4.73310546e-08,\n",
       "       6.58796761e-08, 9.13744381e-08, 1.26289398e-07, 1.73931772e-07,\n",
       "       2.38705144e-07, 3.26449842e-07, 4.44881149e-07, 6.04150945e-07,\n",
       "       8.17564299e-07, 1.10248960e-06, 1.48150924e-06, 1.98386765e-06,\n",
       "       2.64728510e-06, 3.52021904e-06, 4.66466984e-06, 6.15964557e-06,\n",
       "       8.10541966e-06, 1.06287375e-05, 1.38891516e-05, 1.80866915e-05,\n",
       "       2.34711021e-05, 3.03529135e-05, 3.91166362e-05, 5.02364049e-05,\n",
       "       6.42944244e-05, 8.20025992e-05, 1.04227750e-04, 1.32020845e-04,\n",
       "       1.66650674e-04, 2.09642418e-04, 2.62821526e-04, 3.28363314e-04,\n",
       "       4.08848655e-04, 5.07326053e-04, 6.27380320e-04, 7.73207979e-04,\n",
       "       9.49699347e-04, 1.16252712e-03, 1.41824105e-03, 1.72436814e-03,\n",
       "       2.08951736e-03, 2.52348793e-03, 3.03737942e-03, 3.64370215e-03,\n",
       "       4.35648548e-03, 5.19138168e-03, 6.16576245e-03, 7.29880490e-03,\n",
       "       8.61156367e-03, 1.01270253e-02, 1.18701410e-02, 1.38678340e-02,\n",
       "       1.61489773e-02, 1.87443375e-02, 2.16864819e-02, 2.50096444e-02,\n",
       "       2.87495483e-02, 3.29431829e-02, 3.76285323e-02, 4.28442568e-02,\n",
       "       4.86293262e-02, 5.50226069e-02, 6.20624055e-02, 6.97859732e-02,\n",
       "       7.82289763e-02, 8.74249392e-02, 9.74046678e-02, 1.08195664e-01,\n",
       "       1.19821537e-01, 1.32301430e-01, 1.45649470e-01, 1.59874242e-01,\n",
       "       1.74978328e-01, 1.90957889e-01, 2.07802325e-01, 2.25494018e-01,\n",
       "       2.44008159e-01, 2.63312679e-01, 2.83368282e-01, 3.04128585e-01,\n",
       "       3.25540374e-01, 3.47543959e-01, 3.70073649e-01, 3.93058318e-01,\n",
       "       4.16422069e-01, 4.40084978e-01, 4.63963914e-01, 4.87973412e-01,\n",
       "       5.12026588e-01, 5.36036086e-01, 5.59915022e-01, 5.83577931e-01,\n",
       "       6.06941682e-01, 6.29926351e-01, 6.52456041e-01, 6.74459626e-01,\n",
       "       6.95871415e-01, 7.16631718e-01, 7.36687321e-01, 7.55991841e-01,\n",
       "       7.74505982e-01, 7.92197675e-01, 8.09042111e-01, 8.25021672e-01,\n",
       "       8.40125758e-01, 8.54350530e-01, 8.67698570e-01, 8.80178463e-01,\n",
       "       8.91804336e-01, 9.02595332e-01, 9.12575061e-01, 9.21771024e-01,\n",
       "       9.30214027e-01, 9.37937595e-01, 9.44977393e-01, 9.51370674e-01,\n",
       "       9.57155743e-01, 9.62371468e-01, 9.67056817e-01, 9.71250452e-01,\n",
       "       9.74990356e-01, 9.78313518e-01, 9.81255662e-01, 9.83851023e-01,\n",
       "       9.86132166e-01, 9.88129859e-01, 9.89872975e-01, 9.91388436e-01,\n",
       "       9.92701195e-01, 9.93834238e-01, 9.94808618e-01, 9.95643515e-01,\n",
       "       9.96356298e-01, 9.96962621e-01, 9.97476512e-01, 9.97910483e-01,\n",
       "       9.98275632e-01, 9.98581759e-01, 9.98837473e-01, 9.99050301e-01,\n",
       "       9.99226792e-01, 9.99372620e-01, 9.99492674e-01, 9.99591151e-01,\n",
       "       9.99671637e-01, 9.99737178e-01, 9.99790358e-01, 9.99833349e-01,\n",
       "       9.99867979e-01, 9.99895772e-01, 9.99917997e-01, 9.99935706e-01,\n",
       "       9.99949764e-01, 9.99960883e-01, 9.99969647e-01, 9.99976529e-01,\n",
       "       9.99981913e-01, 9.99986111e-01, 9.99989371e-01, 9.99991895e-01,\n",
       "       9.99993840e-01, 9.99995335e-01, 9.99996480e-01, 9.99997353e-01,\n",
       "       9.99998016e-01, 9.99998518e-01, 9.99998898e-01, 9.99999182e-01,\n",
       "       9.99999396e-01, 9.99999555e-01, 9.99999674e-01, 9.99999761e-01,\n",
       "       9.99999826e-01, 9.99999874e-01, 9.99999909e-01, 9.99999934e-01,\n",
       "       9.99999953e-01, 9.99999966e-01, 9.99999976e-01, 9.99999983e-01,\n",
       "       9.99999988e-01, 9.99999991e-01, 9.99999994e-01, 9.99999996e-01,\n",
       "       9.99999997e-01, 9.99999998e-01, 9.99999999e-01, 9.99999999e-01])"
      ]
     },
     "execution_count": 13,
     "metadata": {},
     "output_type": "execute_result"
    }
   ],
   "source": [
    "Y=np.linspace(-6, 6, 200)\n",
    "\n",
    "# distribuição Normal Padrão\n",
    "\n",
    "mu = 0\n",
    "variance = 1\n",
    "sigma = math.sqrt(variance)\n",
    "\n",
    "prob_norm = norm.cdf(Y, mu, sigma)\n",
    "\n",
    "prob_norm"
   ]
  },
  {
   "cell_type": "code",
   "execution_count": 14,
   "metadata": {},
   "outputs": [
    {
     "data": {
      "text/plain": [
       "array([9.23069145e-04, 9.65707283e-04, 1.01068215e-03, 1.05814124e-03,\n",
       "       1.10824253e-03, 1.16115533e-03, 1.21706111e-03, 1.27615455e-03,\n",
       "       1.33864454e-03, 1.40475535e-03, 1.47472786e-03, 1.54882096e-03,\n",
       "       1.62731296e-03, 1.71050325e-03, 1.79871403e-03, 1.89229222e-03,\n",
       "       1.99161154e-03, 2.09707477e-03, 2.20911626e-03, 2.32820458e-03,\n",
       "       2.45484548e-03, 2.58958515e-03, 2.73301368e-03, 2.88576895e-03,\n",
       "       3.04854080e-03, 3.22207562e-03, 3.40718141e-03, 3.60473324e-03,\n",
       "       3.81567926e-03, 4.04104731e-03, 4.28195209e-03, 4.53960303e-03,\n",
       "       4.81531295e-03, 5.11050747e-03, 5.42673535e-03, 5.76567977e-03,\n",
       "       6.12917074e-03, 6.51919857e-03, 6.93792873e-03, 7.38771794e-03,\n",
       "       7.87113189e-03, 8.39096452e-03, 8.95025900e-03, 9.55233077e-03,\n",
       "       1.02007924e-02, 1.08995809e-02, 1.16529871e-02, 1.24656877e-02,\n",
       "       1.33427802e-02, 1.42898197e-02, 1.53128602e-02, 1.64184972e-02,\n",
       "       1.76139150e-02, 1.89069356e-02, 2.03060726e-02, 2.18205862e-02,\n",
       "       2.34605429e-02, 2.52368773e-02, 2.71614555e-02, 2.92471417e-02,\n",
       "       3.15078651e-02, 3.39586869e-02, 3.66158674e-02, 3.94969291e-02,\n",
       "       4.26207170e-02, 4.60074519e-02, 4.96787744e-02, 5.36577774e-02,\n",
       "       5.79690223e-02, 6.26385355e-02, 6.76937807e-02, 7.31636013e-02,\n",
       "       7.90781270e-02, 8.54686400e-02, 9.23673932e-02, 9.98073742e-02,\n",
       "       1.07822010e-01, 1.16444806e-01, 1.25708917e-01, 1.35646641e-01,\n",
       "       1.46288844e-01, 1.57664312e-01, 1.69799034e-01, 1.82715428e-01,\n",
       "       1.96431520e-01, 2.10960103e-01, 2.26307882e-01, 2.42474645e-01,\n",
       "       2.59452493e-01, 2.77225151e-01, 2.95767408e-01, 3.15044719e-01,\n",
       "       3.35012996e-01, 3.55618633e-01, 3.76798766e-01, 3.98481804e-01,\n",
       "       4.20588215e-01, 4.43031566e-01, 4.65719792e-01, 4.88556653e-01,\n",
       "       5.11443347e-01, 5.34280208e-01, 5.56968434e-01, 5.79411785e-01,\n",
       "       6.01518196e-01, 6.23201234e-01, 6.44381367e-01, 6.64987004e-01,\n",
       "       6.84955281e-01, 7.04232592e-01, 7.22774849e-01, 7.40547507e-01,\n",
       "       7.57525355e-01, 7.73692118e-01, 7.89039897e-01, 8.03568480e-01,\n",
       "       8.17284572e-01, 8.30200966e-01, 8.42335688e-01, 8.53711156e-01,\n",
       "       8.64353359e-01, 8.74291083e-01, 8.83555194e-01, 8.92177990e-01,\n",
       "       9.00192626e-01, 9.07632607e-01, 9.14531360e-01, 9.20921873e-01,\n",
       "       9.26836399e-01, 9.32306219e-01, 9.37361465e-01, 9.42030978e-01,\n",
       "       9.46342223e-01, 9.50321226e-01, 9.53992548e-01, 9.57379283e-01,\n",
       "       9.60503071e-01, 9.63384133e-01, 9.66041313e-01, 9.68492135e-01,\n",
       "       9.70752858e-01, 9.72838545e-01, 9.74763123e-01, 9.76539457e-01,\n",
       "       9.78179414e-01, 9.79693927e-01, 9.81093064e-01, 9.82386085e-01,\n",
       "       9.83581503e-01, 9.84687140e-01, 9.85710180e-01, 9.86657220e-01,\n",
       "       9.87534312e-01, 9.88347013e-01, 9.89100419e-01, 9.89799208e-01,\n",
       "       9.90447669e-01, 9.91049741e-01, 9.91609035e-01, 9.92128868e-01,\n",
       "       9.92612282e-01, 9.93062071e-01, 9.93480801e-01, 9.93870829e-01,\n",
       "       9.94234320e-01, 9.94573265e-01, 9.94889493e-01, 9.95184687e-01,\n",
       "       9.95460397e-01, 9.95718048e-01, 9.95958953e-01, 9.96184321e-01,\n",
       "       9.96395267e-01, 9.96592819e-01, 9.96777924e-01, 9.96951459e-01,\n",
       "       9.97114231e-01, 9.97266986e-01, 9.97410415e-01, 9.97545155e-01,\n",
       "       9.97671795e-01, 9.97790884e-01, 9.97902925e-01, 9.98008388e-01,\n",
       "       9.98107708e-01, 9.98201286e-01, 9.98289497e-01, 9.98372687e-01,\n",
       "       9.98451179e-01, 9.98525272e-01, 9.98595245e-01, 9.98661355e-01,\n",
       "       9.98723845e-01, 9.98782939e-01, 9.98838845e-01, 9.98891757e-01,\n",
       "       9.98941859e-01, 9.98989318e-01, 9.99034293e-01, 9.99076931e-01])"
      ]
     },
     "execution_count": 14,
     "metadata": {},
     "output_type": "execute_result"
    }
   ],
   "source": [
    "# distribuição t-studdent com 5 graus de liberdade\n",
    "\n",
    "gl = 5\n",
    "\n",
    "prob_t = stats.t.cdf(Y, gl)*sigma\n",
    "\n",
    "prob_t"
   ]
  },
  {
   "cell_type": "code",
   "execution_count": null,
   "metadata": {},
   "outputs": [],
   "source": []
  },
  {
   "cell_type": "code",
   "execution_count": null,
   "metadata": {},
   "outputs": [],
   "source": []
  },
  {
   "cell_type": "markdown",
   "metadata": {},
   "source": [
    "4. Faça uma visualização gráfica dos dados do item anterior."
   ]
  },
  {
   "cell_type": "code",
   "execution_count": 15,
   "metadata": {},
   "outputs": [
    {
     "data": {
      "text/plain": [
       "<matplotlib.legend.Legend at 0x1c59cc0c1c0>"
      ]
     },
     "execution_count": 15,
     "metadata": {},
     "output_type": "execute_result"
    },
    {
     "data": {
      "image/png": "[encoded data removed]",
      "text/plain": [
       "<Figure size 720x288 with 1 Axes>"
      ]
     },
     "metadata": {
      "needs_background": "light"
     },
     "output_type": "display_data"
    }
   ],
   "source": [
    "fig, ax = plt.subplots(figsize=(10,4))\n",
    "\n",
    "x = np.linspace(mu - 3*sigma, mu + 3*sigma, 200)\n",
    "\n",
    "ax.plot(x, prob_norm, label='Normal')\n",
    "ax.plot(x, prob_t, label='t(5)')\n",
    "\n",
    "ax.set_title('Distribuição Acumulada')\n",
    "ax.set_xlabel('Desvio Padrão')\n",
    "ax.legend()"
   ]
  },
  {
   "cell_type": "markdown",
   "metadata": {},
   "source": [
    "5. 3. Suponha duas variáveis aleatórias $Y_1$ e $Y_2$, a primeira com distribuição Normal Padrão (média=0, variância=1), a segunda com distribuição *t-studdent* com 5 graus de liberdade (também padrão). Calcule, para cada uma, o percentil (a inversa da *CDF*) para cada um dos valores do objeto *P* abaixo:"
   ]
  },
  {
   "cell_type": "code",
   "execution_count": 16,
   "metadata": {},
   "outputs": [
    {
     "data": {
      "text/plain": [
       "array([       -inf, -1.61985626, -1.25211952, -1.00314797, -0.80459638,\n",
       "       -0.63364   , -0.47950565, -0.33603814, -0.19920132, -0.06601181,\n",
       "        0.06601181,  0.19920132,  0.33603814,  0.47950565,  0.63364   ,\n",
       "        0.80459638,  1.00314797,  1.25211952,  1.61985626,         inf])"
      ]
     },
     "execution_count": 16,
     "metadata": {},
     "output_type": "execute_result"
    }
   ],
   "source": [
    "P=np.linspace(0, 1, 20)\n",
    "\n",
    "# distribuição Normal Padrão\n",
    "\n",
    "mu = 0\n",
    "variance = 1\n",
    "sigma = math.sqrt(variance)\n",
    "\n",
    "perc_norm = norm.ppf(P, mu, sigma)\n",
    "\n",
    "perc_norm"
   ]
  },
  {
   "cell_type": "code",
   "execution_count": 17,
   "metadata": {},
   "outputs": [
    {
     "data": {
      "text/plain": [
       "array([       -inf, -1.97489346, -1.4358593 , -1.11439619, -0.87612441,\n",
       "       -0.68067217, -0.51027663, -0.35532778, -0.20979907, -0.06939058,\n",
       "        0.06939058,  0.20979907,  0.35532778,  0.51027663,  0.68067217,\n",
       "        0.87612441,  1.11439619,  1.4358593 ,  1.97489346,         inf])"
      ]
     },
     "execution_count": 17,
     "metadata": {},
     "output_type": "execute_result"
    }
   ],
   "source": [
    "# distribuição t-studdent com 5 graus de liberdade\n",
    "\n",
    "gl = 5\n",
    "\n",
    "perc_t = stats.t.ppf(P, gl)*sigma\n",
    "\n",
    "perc_t"
   ]
  },
  {
   "cell_type": "markdown",
   "metadata": {},
   "source": [
    "6. Faça um gráfico com os dados do item anterior."
   ]
  },
  {
   "cell_type": "code",
   "execution_count": 18,
   "metadata": {},
   "outputs": [
    {
     "data": {
      "text/plain": [
       "<matplotlib.legend.Legend at 0x1c59cc7f6d0>"
      ]
     },
     "execution_count": 18,
     "metadata": {},
     "output_type": "execute_result"
    },
    {
     "data": {
      "image/png": "[encoded data removed]",
      "text/plain": [
       "<Figure size 720x288 with 1 Axes>"
      ]
     },
     "metadata": {
      "needs_background": "light"
     },
     "output_type": "display_data"
    }
   ],
   "source": [
    "fig, ax = plt.subplots(figsize=(10,4))\n",
    "\n",
    "x = np.linspace(mu - 3*sigma, mu + 3*sigma, 20)\n",
    "\n",
    "ax.plot(x, perc_norm, label='Normal')\n",
    "\n",
    "ax.plot(x, perc_t, label='t(5)')\n",
    "\n",
    "ax.set_title('Percentis')\n",
    "ax.set_xlabel('Desvio Padrão')\n",
    "ax.legend()"
   ]
  }
 ],
 "metadata": {
  "kernelspec": {
   "display_name": "Python 3 (ipykernel)",
   "language": "python",
   "name": "python3"
  },
  "language_info": {
   "codemirror_mode": {
    "name": "ipython",
    "version": 3
   },
   "file_extension": ".py",
   "mimetype": "text/x-python",
   "name": "python",
   "nbconvert_exporter": "python",
   "pygments_lexer": "ipython3",
   "version": "3.9.12"
  },
  "toc": {
   "base_numbering": 1,
   "nav_menu": {},
   "number_sections": false,
   "sideBar": true,
   "skip_h1_title": true,
   "title_cell": "Índice",
   "title_sidebar": "Conteúdo",
   "toc_cell": false,
   "toc_position": {},
   "toc_section_display": true,
   "toc_window_display": false
  },
  "varInspector": {
   "cols": {
    "lenName": 16,
    "lenType": 16,
    "lenVar": 40
   },
   "kernels_config": {
    "python": {
     "delete_cmd_postfix": "",
     "delete_cmd_prefix": "del ",
     "library": "var_list.py",
     "varRefreshCmd": "print(var_dic_list())"
    },
    "r": {
     "delete_cmd_postfix": ") ",
     "delete_cmd_prefix": "rm(",
     "library": "var_list.r",
     "varRefreshCmd": "cat(var_dic_list()) "
    }
   },
   "types_to_exclude": [
    "module",
    "function",
    "builtin_function_or_method",
    "instance",
    "_Feature"
   ],
   "window_display": false
  }
 },
 "nbformat": 4,
 "nbformat_minor": 4
}
