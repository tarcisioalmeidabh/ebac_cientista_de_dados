{
 "cells": [
  {
   "cell_type": "markdown",
   "metadata": {},
   "source": [
    "# Tarefa"
   ]
  },
  {
   "cell_type": "code",
   "execution_count": 11,
   "metadata": {},
   "outputs": [],
   "source": [
    "import pandas as pd\n",
    "import numpy as np\n",
    "import seaborn as sns\n",
    "import matplotlib.pyplot as plt\n",
    "import scipy.stats as st"
   ]
  },
  {
   "cell_type": "code",
   "execution_count": 12,
   "metadata": {},
   "outputs": [],
   "source": [
    "pg = sns.load_dataset('penguins')"
   ]
  },
  {
   "cell_type": "code",
   "execution_count": 13,
   "metadata": {},
   "outputs": [
    {
     "data": {
      "text/html": [
       "<div>\n",
       "<style scoped>\n",
       "    .dataframe tbody tr th:only-of-type {\n",
       "        vertical-align: middle;\n",
       "    }\n",
       "\n",
       "    .dataframe tbody tr th {\n",
       "        vertical-align: top;\n",
       "    }\n",
       "\n",
       "    .dataframe thead th {\n",
       "        text-align: right;\n",
       "    }\n",
       "</style>\n",
       "<table border=\"1\" class=\"dataframe\">\n",
       "  <thead>\n",
       "    <tr style=\"text-align: right;\">\n",
       "      <th></th>\n",
       "      <th>count</th>\n",
       "      <th>mean</th>\n",
       "      <th>std</th>\n",
       "      <th>min</th>\n",
       "      <th>25%</th>\n",
       "      <th>50%</th>\n",
       "      <th>75%</th>\n",
       "      <th>max</th>\n",
       "    </tr>\n",
       "    <tr>\n",
       "      <th>sex</th>\n",
       "      <th></th>\n",
       "      <th></th>\n",
       "      <th></th>\n",
       "      <th></th>\n",
       "      <th></th>\n",
       "      <th></th>\n",
       "      <th></th>\n",
       "      <th></th>\n",
       "    </tr>\n",
       "  </thead>\n",
       "  <tbody>\n",
       "    <tr>\n",
       "      <th>Female</th>\n",
       "      <td>165.0</td>\n",
       "      <td>3862.272727</td>\n",
       "      <td>666.172050</td>\n",
       "      <td>2700.0</td>\n",
       "      <td>3350.0</td>\n",
       "      <td>3650.0</td>\n",
       "      <td>4550.0</td>\n",
       "      <td>5200.0</td>\n",
       "    </tr>\n",
       "    <tr>\n",
       "      <th>Male</th>\n",
       "      <td>168.0</td>\n",
       "      <td>4545.684524</td>\n",
       "      <td>787.628884</td>\n",
       "      <td>3250.0</td>\n",
       "      <td>3900.0</td>\n",
       "      <td>4300.0</td>\n",
       "      <td>5312.5</td>\n",
       "      <td>6300.0</td>\n",
       "    </tr>\n",
       "  </tbody>\n",
       "</table>\n",
       "</div>"
      ],
      "text/plain": [
       "        count         mean         std     min     25%     50%     75%     max\n",
       "sex                                                                           \n",
       "Female  165.0  3862.272727  666.172050  2700.0  3350.0  3650.0  4550.0  5200.0\n",
       "Male    168.0  4545.684524  787.628884  3250.0  3900.0  4300.0  5312.5  6300.0"
      ]
     },
     "execution_count": 13,
     "metadata": {},
     "output_type": "execute_result"
    }
   ],
   "source": [
    "pg.groupby('sex')['body_mass_g'].describe()"
   ]
  },
  {
   "cell_type": "code",
   "execution_count": 14,
   "metadata": {},
   "outputs": [
    {
     "data": {
      "text/plain": [
       "<AxesSubplot:xlabel='sex', ylabel='body_mass_g'>"
      ]
     },
     "execution_count": 14,
     "metadata": {},
     "output_type": "execute_result"
    },
    {
     "data": {
      "image/png": "[encoded data removed]",
      "text/plain": [
       "<Figure size 432x288 with 1 Axes>"
      ]
     },
     "metadata": {
      "needs_background": "light"
     },
     "output_type": "display_data"
    }
   ],
   "source": [
    "sns.pointplot(data=pg, x='sex', y = 'body_mass_g')"
   ]
  },
  {
   "cell_type": "markdown",
   "metadata": {},
   "source": [
    "## 1) Diferença de peso entre machos e fêmeas\n",
    "\n",
    "Na base de pinguins, podemos ver que há diferença de peso entre machos e fêmeas. Mas será que é uma conclusão extrapolável a toda a população de pinguins? Assumindo que essa amostra é aleatória e representativa da população de pinguins, realize um teste T com 5% de significância para verificar se podemos induzir esta conclusão para a população toda."
   ]
  },
  {
   "cell_type": "code",
   "execution_count": 15,
   "metadata": {},
   "outputs": [
    {
     "name": "stdout",
     "output_type": "stream",
     "text": [
      "diferença: 683.41\n",
      "desvio padrão: 729.43\n",
      "erro padrão: 326.21\n",
      "estatística do teste: 2.09\n",
      "região crítica: 1.73 ou mais\n",
      "p-value: 0.02529 ou mais\n"
     ]
    }
   ],
   "source": [
    "desvpad = pg.groupby('sex')['body_mass_g'].var().mean()**.5\n",
    "Média_A = pg.groupby('sex')['body_mass_g'].mean()['Male']\n",
    "Média_B = pg.groupby('sex')['body_mass_g'].mean()['Female']\n",
    "\n",
    "diferença = Média_A - Média_B      # Numerador da fórmula\n",
    "erro_padrao = desvpad*((2/10)**.5) # variância amostral*raiz(2/n)\n",
    "t = diferença/erro_padrao          # Estatística do teste\n",
    "RC = st.t.ppf(.95, 18)             # Região crítica: sob h0, t está na RC 5% das vezes\n",
    "p_value=1-st.t.cdf(t, 18)          # p-value: a menor significância para a qual rejeitamos o teste\n",
    "\n",
    "print(f'diferença: {diferença:.2f}')\n",
    "print(f'desvio padrão: {desvpad:.2f}')\n",
    "print(f'erro padrão: {erro_padrao:.2f}')\n",
    "print(f'estatística do teste: {t:.2f}')\n",
    "print(f'região crítica: {RC:.2f} ou mais')\n",
    "print(f'p-value: {p_value:.5f} ou mais')"
   ]
  },
  {
   "cell_type": "markdown",
   "metadata": {},
   "source": [
    "**Conclusão:** Como p-value encontrado é menor que 5% podemos induzir que há diferença de peso entre machos e fêmeas."
   ]
  },
  {
   "cell_type": "markdown",
   "metadata": {},
   "source": [
    "## 2) (opcional) Representação gráfica do teste\n",
    "\n",
    "Siga os passos da aula para você poder visualizar a estatística do teste, sua distribuição e a região crítica do teste."
   ]
  },
  {
   "cell_type": "code",
   "execution_count": 16,
   "metadata": {},
   "outputs": [
    {
     "name": "stdout",
     "output_type": "stream",
     "text": [
      "A probabilidade para valores entre 1,73 e inf é de 5,00%\n"
     ]
    },
    {
     "data": {
      "image/png": "[encoded data removed]",
      "text/plain": [
       "<Figure size 720x216 with 1 Axes>"
      ]
     },
     "metadata": {
      "needs_background": "light"
     },
     "output_type": "display_data"
    }
   ],
   "source": [
    "fig, ax = plt.subplots(figsize=(10,3))\n",
    "\n",
    "# Parâmetros da densidade sob H0\n",
    "mu = 0\n",
    "variance = 1\n",
    "sigma = variance**.5\n",
    "\n",
    "# Valores de X e Y para plotar a densidade\n",
    "x = np.linspace(mu - 3*sigma, mu + 3*sigma, 100)\n",
    "y = st.t.pdf(x, 18)\n",
    "\n",
    "# low = início da região crítica do teste\n",
    "low = st.t.ppf(.95, 18)\n",
    "high = np.inf\n",
    "\n",
    "# Gráfico da densidade\n",
    "ax.plot(x, y)\n",
    "# Esta linha de referência marca o valor observado da estatística do teste\n",
    "ax.vlines(x=[t], \n",
    "             ymin=0, ymax=y.max(), \n",
    "             colors='r', linestyles='dotted')\n",
    "\n",
    "# área \n",
    "plt.fill_between(x, y, where=(low < x) & (x < high), alpha=.5)\n",
    "\n",
    "# Probabilidade de X pertencer à área\n",
    "prob_area = st.t.cdf(high, 18) - st.t.cdf(low, 18)\n",
    "print(f'A probabilidade para valores entre {low:.2f} e {high:.2f} é de {prob_area:.2%}'.replace('.',','))"
   ]
  },
  {
   "cell_type": "markdown",
   "metadata": {},
   "source": [
    "## 3) Considere as espécies\n",
    "\n",
    "Repita o exercício I, uma vez para cada espécie de pinguim. Qual é o *p-value* associado a cada raça?"
   ]
  },
  {
   "cell_type": "markdown",
   "metadata": {},
   "source": [
    "**Adelie**"
   ]
  },
  {
   "cell_type": "code",
   "execution_count": 17,
   "metadata": {},
   "outputs": [
    {
     "name": "stdout",
     "output_type": "stream",
     "text": [
      "diferença: 674.66\n",
      "desvio padrão: 310.52\n",
      "erro padrão: 138.87\n",
      "estatística do teste: 4.86\n",
      "região crítica: 1.73 ou mais\n",
      "p-value: 0.00006 ou mais\n"
     ]
    }
   ],
   "source": [
    "desvpad = pg.loc[pg['species'] == 'Adelie'].groupby('sex')['body_mass_g'].var().mean()**.5\n",
    "Média_A = pg.loc[pg['species'] == 'Adelie'].groupby('sex')['body_mass_g'].mean()['Male']\n",
    "Média_B = pg.loc[pg['species'] == 'Adelie'].groupby('sex')['body_mass_g'].mean()['Female']\n",
    "\n",
    "diferença = Média_A - Média_B      # Numerador da fórmula\n",
    "erro_padrao = desvpad*((2/10)**.5) # variância amostral*raiz(2/n)\n",
    "t = diferença/erro_padrao          # Estatística do teste\n",
    "RC = st.t.ppf(.95, 18)             # Região crítica: sob h0, t está na RC 5% das vezes\n",
    "p_value=1-st.t.cdf(t, 18)          # p-value: a menor significância para a qual rejeitamos o teste\n",
    "\n",
    "print(f'diferença: {diferença:.2f}')\n",
    "print(f'desvio padrão: {desvpad:.2f}')\n",
    "print(f'erro padrão: {erro_padrao:.2f}')\n",
    "print(f'estatística do teste: {t:.2f}')\n",
    "print(f'região crítica: {RC:.2f} ou mais')\n",
    "print(f'p-value: {p_value:.5f} ou mais')\n",
    "\n",
    "p_value_adelie = p_value"
   ]
  },
  {
   "cell_type": "markdown",
   "metadata": {},
   "source": [
    "**Gentoo**"
   ]
  },
  {
   "cell_type": "code",
   "execution_count": 18,
   "metadata": {},
   "outputs": [
    {
     "name": "stdout",
     "output_type": "stream",
     "text": [
      "diferença: 805.09\n",
      "desvio padrão: 297.79\n",
      "erro padrão: 133.17\n",
      "estatística do teste: 6.05\n",
      "região crítica: 1.73 ou mais\n",
      "p-value: 0.00001 ou mais\n"
     ]
    }
   ],
   "source": [
    "desvpad = pg.loc[pg['species'] == 'Gentoo'].groupby('sex')['body_mass_g'].var().mean()**.5\n",
    "Média_A = pg.loc[pg['species'] == 'Gentoo'].groupby('sex')['body_mass_g'].mean()['Male']\n",
    "Média_B = pg.loc[pg['species'] == 'Gentoo'].groupby('sex')['body_mass_g'].mean()['Female']\n",
    "\n",
    "diferença = Média_A - Média_B      # Numerador da fórmula\n",
    "erro_padrao = desvpad*((2/10)**.5) # variância amostral*raiz(2/n)\n",
    "t = diferença/erro_padrao          # Estatística do teste\n",
    "RC = st.t.ppf(.95, 18)             # Região crítica: sob h0, t está na RC 5% das vezes\n",
    "p_value=1-st.t.cdf(t, 18)          # p-value: a menor significância para a qual rejeitamos o teste\n",
    "\n",
    "print(f'diferença: {diferença:.2f}')\n",
    "print(f'desvio padrão: {desvpad:.2f}')\n",
    "print(f'erro padrão: {erro_padrao:.2f}')\n",
    "print(f'estatística do teste: {t:.2f}')\n",
    "print(f'região crítica: {RC:.2f} ou mais')\n",
    "print(f'p-value: {p_value:.5f} ou mais')\n",
    "\n",
    "p_value_gentoo = p_value"
   ]
  },
  {
   "cell_type": "markdown",
   "metadata": {},
   "source": [
    "**Chinstrap**"
   ]
  },
  {
   "cell_type": "code",
   "execution_count": 19,
   "metadata": {},
   "outputs": [
    {
     "name": "stdout",
     "output_type": "stream",
     "text": [
      "diferença: 411.76\n",
      "desvio padrão: 326.01\n",
      "erro padrão: 145.79\n",
      "estatística do teste: 2.82\n",
      "região crítica: 1.73 ou mais\n",
      "p-value: 0.00562 ou mais\n"
     ]
    }
   ],
   "source": [
    "desvpad = pg.loc[pg['species'] == 'Chinstrap'].groupby('sex')['body_mass_g'].var().mean()**.5\n",
    "Média_A = pg.loc[pg['species'] == 'Chinstrap'].groupby('sex')['body_mass_g'].mean()['Male']\n",
    "Média_B = pg.loc[pg['species'] == 'Chinstrap'].groupby('sex')['body_mass_g'].mean()['Female']\n",
    "\n",
    "diferença = Média_A - Média_B      # Numerador da fórmula\n",
    "erro_padrao = desvpad*((2/10)**.5) # variância amostral*raiz(2/n)\n",
    "t = diferença/erro_padrao          # Estatística do teste\n",
    "RC = st.t.ppf(.95, 18)             # Região crítica: sob h0, t está na RC 5% das vezes\n",
    "p_value=1-st.t.cdf(t, 18)          # p-value: a menor significância para a qual rejeitamos o teste\n",
    "\n",
    "print(f'diferença: {diferença:.2f}')\n",
    "print(f'desvio padrão: {desvpad:.2f}')\n",
    "print(f'erro padrão: {erro_padrao:.2f}')\n",
    "print(f'estatística do teste: {t:.2f}')\n",
    "print(f'região crítica: {RC:.2f} ou mais')\n",
    "print(f'p-value: {p_value:.5f} ou mais')\n",
    "\n",
    "p_value_chinstrap = p_value"
   ]
  },
  {
   "cell_type": "markdown",
   "metadata": {},
   "source": [
    "**P-value associado a cada raça:**"
   ]
  },
  {
   "cell_type": "code",
   "execution_count": 20,
   "metadata": {},
   "outputs": [
    {
     "name": "stdout",
     "output_type": "stream",
     "text": [
      "p-value associado a raça Adelie: 0.00006\n",
      "p-value associado a raça Gentoo: 0.00001\n",
      "p-value associado a raça Chinstrap: 0.00562\n"
     ]
    }
   ],
   "source": [
    "print(f'p-value associado a raça Adelie: {p_value_adelie:.5f}')\n",
    "print(f'p-value associado a raça Gentoo: {p_value_gentoo:.5f}')\n",
    "print(f'p-value associado a raça Chinstrap: {p_value_chinstrap:.5f}')"
   ]
  }
 ],
 "metadata": {
  "kernelspec": {
   "display_name": "Python 3 (ipykernel)",
   "language": "python",
   "name": "python3"
  },
  "language_info": {
   "codemirror_mode": {
    "name": "ipython",
    "version": 3
   },
   "file_extension": ".py",
   "mimetype": "text/x-python",
   "name": "python",
   "nbconvert_exporter": "python",
   "pygments_lexer": "ipython3",
   "version": "3.9.12"
  },
  "toc": {
   "base_numbering": 1,
   "nav_menu": {},
   "number_sections": false,
   "sideBar": true,
   "skip_h1_title": true,
   "title_cell": "Índice",
   "title_sidebar": "Conteúdo",
   "toc_cell": false,
   "toc_position": {},
   "toc_section_display": true,
   "toc_window_display": false
  },
  "varInspector": {
   "cols": {
    "lenName": 16,
    "lenType": 16,
    "lenVar": 40
   },
   "kernels_config": {
    "python": {
     "delete_cmd_postfix": "",
     "delete_cmd_prefix": "del ",
     "library": "var_list.py",
     "varRefreshCmd": "print(var_dic_list())"
    },
    "r": {
     "delete_cmd_postfix": ") ",
     "delete_cmd_prefix": "rm(",
     "library": "var_list.r",
     "varRefreshCmd": "cat(var_dic_list()) "
    }
   },
   "types_to_exclude": [
    "module",
    "function",
    "builtin_function_or_method",
    "instance",
    "_Feature"
   ],
   "window_display": false
  }
 },
 "nbformat": 4,
 "nbformat_minor": 4
}
