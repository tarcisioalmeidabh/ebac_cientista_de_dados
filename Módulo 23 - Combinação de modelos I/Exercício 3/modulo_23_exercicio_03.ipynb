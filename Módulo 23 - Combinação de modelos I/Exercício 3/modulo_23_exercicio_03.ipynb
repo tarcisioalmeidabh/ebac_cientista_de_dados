{
 "cells": [
  {
   "cell_type": "markdown",
   "id": "3cde7335-8392-4e86-a3ef-ea2f7a8ba94f",
   "metadata": {},
   "source": [
    "# Tarefa 03"
   ]
  },
  {
   "cell_type": "markdown",
   "id": "ec7d086d-c526-4419-862f-c9a94006fc77",
   "metadata": {},
   "source": [
    "**1.** Quais são os hyperparâmetros do RF?"
   ]
  },
  {
   "cell_type": "markdown",
   "id": "bfb83957-3808-4bdb-9630-733cd3f4fb8f",
   "metadata": {},
   "source": [
    "> Os hyperparâmetros do algoritmo ***Random Forest*** são:\n",
    ">\n",
    "> - n_estimators\n",
    "> - criterion\n",
    "> - max_depth\n",
    "> - min_samples_split\n",
    "> - min_samples_leaf\n",
    "> - min_weight_fraction_leaf\n",
    "> - max_features\n",
    "> - max_leaf_nodes\n",
    "> - min_impurity_decrease\n",
    "> - bootstrap\n",
    "> - oob_score\n",
    "> - n_jobs\n",
    "> - random_state\n",
    "> - verbose\n",
    "> - warm_start\n",
    "> - class_weight\n",
    "> - ccp_alpha\n",
    "> - max_samples"
   ]
  },
  {
   "cell_type": "markdown",
   "id": "1963e124-b386-45a9-bfd6-751155d8a065",
   "metadata": {},
   "source": [
    "**2.** Pra que serve cada um deles?"
   ]
  },
  {
   "cell_type": "markdown",
   "id": "9b35bf22-f6b7-43f8-9ec3-ff65d16fb644",
   "metadata": {},
   "source": [
    "> - ***n_estimators:*** Número de árvores de decisão no modelo. Cada árvore é construída a partir de uma amostra aleatória com reposição (*Bootstrap*);\n",
    "> - ***criterion:*** Métrica para avaliar a qualidade das divisões nos nós da árvore;\n",
    "> - ***max_depth:*** Número para limitar a profundidade máxima da árvore;\n",
    "> - ***min_samples_split:*** Número mínimo de amostras para que ocorra a divisão de um nó na árvore;\n",
    "> - ***min_samples_leaf:*** Número mínimo de amostras em uma folha para que seja considerada válida na divisão;\n",
    "> - ***min_weight_fraction_leaf:*** Número decimal para definir valor o \"peso\" (importância) mínimo necessário de uma folha;\n",
    "> - ***max_features:*** Número máximo de variáveis (*feature selection*) ao buscar a melhor divisão;\n",
    "> - ***max_leaf_nodes:*** Número máximo de nós na árvore;\n",
    "> - ***min_impurity_decrease:*** Valor mínimo de redução da impureza que define se haverá divisão do nó de acordo com a métrica utilizada;\n",
    "> - ***bootstrap:*** Define se o método *Bootstrap* será utilizado;\n",
    "> - ***oob_score:*** Define se o método *out-of-bag* será utilizado caso *Bootstrap* também estiver em uso;\n",
    "> - ***n_jobs:*** Número de processos que podem trabalhar em paralelo caso haja processamento disponível;\n",
    "> - ***random_state:*** Controla a aleatoriedade dos métodos *Bootstrap* e *feature selection* possibilitando a reprodução dos mesmos resultados do modelo;\n",
    "> - ***verbose:*** Controla o detalhamento das mensagens nos processos de treino e previsão do modelo;\n",
    "> - ***warm_start:*** Possibilita o reuso do treino anterior adicionando mais árvores ao modelo;\n",
    "> - ***class_weight:*** Define o peso de cada classe, possibilitando equilíbrio proporcional entre elas;\n",
    "> - ***ccp_alpha:*** Parâmetro de complexidade usado para controlar a pós-poda da árvore. Quanto maior o valor, maior será a poda;\n",
    "> - ***max_samples:*** Número máximo de amostras para treinar o modelo caso o método *Bootstrap* seja utilizado."
   ]
  },
  {
   "cell_type": "markdown",
   "id": "b671374a-ffb2-4f2d-8609-8dbdde81d4fa",
   "metadata": {},
   "source": [
    "---"
   ]
  }
 ],
 "metadata": {
  "kernelspec": {
   "display_name": "Python 3 (ipykernel)",
   "language": "python",
   "name": "python3"
  },
  "language_info": {
   "codemirror_mode": {
    "name": "ipython",
    "version": 3
   },
   "file_extension": ".py",
   "mimetype": "text/x-python",
   "name": "python",
   "nbconvert_exporter": "python",
   "pygments_lexer": "ipython3",
   "version": "3.9.13"
  }
 },
 "nbformat": 4,
 "nbformat_minor": 5
}
